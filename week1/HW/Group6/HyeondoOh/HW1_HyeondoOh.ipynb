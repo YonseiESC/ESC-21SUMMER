{
 "cells": [
  {
   "cell_type": "code",
   "execution_count": 1,
   "metadata": {},
   "outputs": [
    {
     "name": "stdout",
     "output_type": "stream",
     "text": [
      "Requirement already satisfied: IPython in c:\\programdata\\anaconda3\\lib\\site-packages (7.12.0)\n",
      "Requirement already satisfied: pygments in c:\\programdata\\anaconda3\\lib\\site-packages (from IPython) (2.5.2)\n",
      "Requirement already satisfied: setuptools>=18.5 in c:\\programdata\\anaconda3\\lib\\site-packages (from IPython) (45.2.0.post20200210)\n",
      "Requirement already satisfied: jedi>=0.10 in c:\\programdata\\anaconda3\\lib\\site-packages (from IPython) (0.14.1)\n",
      "Requirement already satisfied: prompt-toolkit!=3.0.0,!=3.0.1,<3.1.0,>=2.0.0 in c:\\programdata\\anaconda3\\lib\\site-packages (from IPython) (3.0.3)\n",
      "Requirement already satisfied: traitlets>=4.2 in c:\\programdata\\anaconda3\\lib\\site-packages (from IPython) (4.3.3)\n",
      "Requirement already satisfied: backcall in c:\\programdata\\anaconda3\\lib\\site-packages (from IPython) (0.1.0)\n",
      "Requirement already satisfied: pickleshare in c:\\programdata\\anaconda3\\lib\\site-packages (from IPython) (0.7.5)\n",
      "Requirement already satisfied: colorama; sys_platform == \"win32\" in c:\\programdata\\anaconda3\\lib\\site-packages (from IPython) (0.4.3)\n",
      "Requirement already satisfied: decorator in c:\\programdata\\anaconda3\\lib\\site-packages (from IPython) (4.4.1)\n",
      "Requirement already satisfied: parso>=0.5.0 in c:\\programdata\\anaconda3\\lib\\site-packages (from jedi>=0.10->IPython) (0.5.2)\n",
      "Requirement already satisfied: wcwidth in c:\\programdata\\anaconda3\\lib\\site-packages (from prompt-toolkit!=3.0.0,!=3.0.1,<3.1.0,>=2.0.0->IPython) (0.1.8)\n",
      "Requirement already satisfied: ipython-genutils in c:\\programdata\\anaconda3\\lib\\site-packages (from traitlets>=4.2->IPython) (0.2.0)\n",
      "Requirement already satisfied: six in c:\\programdata\\anaconda3\\lib\\site-packages (from traitlets>=4.2->IPython) (1.14.0)\n"
     ]
    }
   ],
   "source": [
    "!pip install IPython \n",
    "from IPython.display import Image"
   ]
  },
  {
   "cell_type": "markdown",
   "metadata": {},
   "source": [
    "# ISL 3.5"
   ]
  },
  {
   "cell_type": "markdown",
   "metadata": {},
   "source": [
    "<img src = \"img/KakaoTalk_20210717_102103567.png\" height=\"50%\" width=\"50%\">\n"
   ]
  },
  {
   "cell_type": "markdown",
   "metadata": {},
   "source": [
    "# ESL 3.4"
   ]
  },
  {
   "cell_type": "markdown",
   "metadata": {},
   "source": [
    "<img src = \"img/KakaoTalk_20210717_102120239.png\" height=\"50%\" width=\"50%\">"
   ]
  },
  {
   "cell_type": "markdown",
   "metadata": {},
   "source": [
    "# Coding"
   ]
  },
  {
   "cell_type": "code",
   "execution_count": 2,
   "metadata": {},
   "outputs": [],
   "source": [
    "import numpy as np\n",
    "import pandas as pd\n",
    "import random\n",
    "import math"
   ]
  },
  {
   "cell_type": "code",
   "execution_count": 3,
   "metadata": {},
   "outputs": [],
   "source": [
    "df = pd.read_csv(\"Auto.csv\")"
   ]
  },
  {
   "cell_type": "code",
   "execution_count": 4,
   "metadata": {},
   "outputs": [
    {
     "data": {
      "text/html": [
       "<div>\n",
       "<style scoped>\n",
       "    .dataframe tbody tr th:only-of-type {\n",
       "        vertical-align: middle;\n",
       "    }\n",
       "\n",
       "    .dataframe tbody tr th {\n",
       "        vertical-align: top;\n",
       "    }\n",
       "\n",
       "    .dataframe thead th {\n",
       "        text-align: right;\n",
       "    }\n",
       "</style>\n",
       "<table border=\"1\" class=\"dataframe\">\n",
       "  <thead>\n",
       "    <tr style=\"text-align: right;\">\n",
       "      <th></th>\n",
       "      <th>mpg</th>\n",
       "      <th>cylinders</th>\n",
       "      <th>displacement</th>\n",
       "      <th>horsepower</th>\n",
       "      <th>weight</th>\n",
       "      <th>acceleration</th>\n",
       "      <th>year</th>\n",
       "      <th>origin</th>\n",
       "      <th>name</th>\n",
       "    </tr>\n",
       "  </thead>\n",
       "  <tbody>\n",
       "    <tr>\n",
       "      <th>0</th>\n",
       "      <td>18.0</td>\n",
       "      <td>8</td>\n",
       "      <td>307.0</td>\n",
       "      <td>130</td>\n",
       "      <td>3504</td>\n",
       "      <td>12.0</td>\n",
       "      <td>70</td>\n",
       "      <td>1</td>\n",
       "      <td>chevrolet chevelle malibu</td>\n",
       "    </tr>\n",
       "    <tr>\n",
       "      <th>1</th>\n",
       "      <td>15.0</td>\n",
       "      <td>8</td>\n",
       "      <td>350.0</td>\n",
       "      <td>165</td>\n",
       "      <td>3693</td>\n",
       "      <td>11.5</td>\n",
       "      <td>70</td>\n",
       "      <td>1</td>\n",
       "      <td>buick skylark 320</td>\n",
       "    </tr>\n",
       "    <tr>\n",
       "      <th>2</th>\n",
       "      <td>18.0</td>\n",
       "      <td>8</td>\n",
       "      <td>318.0</td>\n",
       "      <td>150</td>\n",
       "      <td>3436</td>\n",
       "      <td>11.0</td>\n",
       "      <td>70</td>\n",
       "      <td>1</td>\n",
       "      <td>plymouth satellite</td>\n",
       "    </tr>\n",
       "    <tr>\n",
       "      <th>3</th>\n",
       "      <td>16.0</td>\n",
       "      <td>8</td>\n",
       "      <td>304.0</td>\n",
       "      <td>150</td>\n",
       "      <td>3433</td>\n",
       "      <td>12.0</td>\n",
       "      <td>70</td>\n",
       "      <td>1</td>\n",
       "      <td>amc rebel sst</td>\n",
       "    </tr>\n",
       "    <tr>\n",
       "      <th>4</th>\n",
       "      <td>17.0</td>\n",
       "      <td>8</td>\n",
       "      <td>302.0</td>\n",
       "      <td>140</td>\n",
       "      <td>3449</td>\n",
       "      <td>10.5</td>\n",
       "      <td>70</td>\n",
       "      <td>1</td>\n",
       "      <td>ford torino</td>\n",
       "    </tr>\n",
       "  </tbody>\n",
       "</table>\n",
       "</div>"
      ],
      "text/plain": [
       "    mpg  cylinders  displacement horsepower  weight  acceleration  year  \\\n",
       "0  18.0          8         307.0        130    3504          12.0    70   \n",
       "1  15.0          8         350.0        165    3693          11.5    70   \n",
       "2  18.0          8         318.0        150    3436          11.0    70   \n",
       "3  16.0          8         304.0        150    3433          12.0    70   \n",
       "4  17.0          8         302.0        140    3449          10.5    70   \n",
       "\n",
       "   origin                       name  \n",
       "0       1  chevrolet chevelle malibu  \n",
       "1       1          buick skylark 320  \n",
       "2       1         plymouth satellite  \n",
       "3       1              amc rebel sst  \n",
       "4       1                ford torino  "
      ]
     },
     "execution_count": 4,
     "metadata": {},
     "output_type": "execute_result"
    }
   ],
   "source": [
    "df.head()"
   ]
  },
  {
   "cell_type": "code",
   "execution_count": 5,
   "metadata": {
    "scrolled": true
   },
   "outputs": [
    {
     "data": {
      "text/plain": [
       "Index(['mpg', 'cylinders', 'displacement', 'horsepower', 'weight',\n",
       "       'acceleration', 'year', 'origin', 'name'],\n",
       "      dtype='object')"
      ]
     },
     "execution_count": 5,
     "metadata": {},
     "output_type": "execute_result"
    }
   ],
   "source": [
    "df.columns"
   ]
  },
  {
   "cell_type": "code",
   "execution_count": 6,
   "metadata": {},
   "outputs": [],
   "source": [
    "df = df.drop(['origin','name'],axis=1)"
   ]
  },
  {
   "cell_type": "code",
   "execution_count": 7,
   "metadata": {
    "scrolled": false
   },
   "outputs": [
    {
     "data": {
      "text/html": [
       "<div>\n",
       "<style scoped>\n",
       "    .dataframe tbody tr th:only-of-type {\n",
       "        vertical-align: middle;\n",
       "    }\n",
       "\n",
       "    .dataframe tbody tr th {\n",
       "        vertical-align: top;\n",
       "    }\n",
       "\n",
       "    .dataframe thead th {\n",
       "        text-align: right;\n",
       "    }\n",
       "</style>\n",
       "<table border=\"1\" class=\"dataframe\">\n",
       "  <thead>\n",
       "    <tr style=\"text-align: right;\">\n",
       "      <th></th>\n",
       "      <th>mpg</th>\n",
       "      <th>cylinders</th>\n",
       "      <th>displacement</th>\n",
       "      <th>horsepower</th>\n",
       "      <th>weight</th>\n",
       "      <th>acceleration</th>\n",
       "      <th>year</th>\n",
       "    </tr>\n",
       "  </thead>\n",
       "  <tbody>\n",
       "    <tr>\n",
       "      <th>0</th>\n",
       "      <td>18.0</td>\n",
       "      <td>8</td>\n",
       "      <td>307.0</td>\n",
       "      <td>130</td>\n",
       "      <td>3504</td>\n",
       "      <td>12.0</td>\n",
       "      <td>70</td>\n",
       "    </tr>\n",
       "    <tr>\n",
       "      <th>1</th>\n",
       "      <td>15.0</td>\n",
       "      <td>8</td>\n",
       "      <td>350.0</td>\n",
       "      <td>165</td>\n",
       "      <td>3693</td>\n",
       "      <td>11.5</td>\n",
       "      <td>70</td>\n",
       "    </tr>\n",
       "    <tr>\n",
       "      <th>2</th>\n",
       "      <td>18.0</td>\n",
       "      <td>8</td>\n",
       "      <td>318.0</td>\n",
       "      <td>150</td>\n",
       "      <td>3436</td>\n",
       "      <td>11.0</td>\n",
       "      <td>70</td>\n",
       "    </tr>\n",
       "    <tr>\n",
       "      <th>3</th>\n",
       "      <td>16.0</td>\n",
       "      <td>8</td>\n",
       "      <td>304.0</td>\n",
       "      <td>150</td>\n",
       "      <td>3433</td>\n",
       "      <td>12.0</td>\n",
       "      <td>70</td>\n",
       "    </tr>\n",
       "    <tr>\n",
       "      <th>4</th>\n",
       "      <td>17.0</td>\n",
       "      <td>8</td>\n",
       "      <td>302.0</td>\n",
       "      <td>140</td>\n",
       "      <td>3449</td>\n",
       "      <td>10.5</td>\n",
       "      <td>70</td>\n",
       "    </tr>\n",
       "  </tbody>\n",
       "</table>\n",
       "</div>"
      ],
      "text/plain": [
       "    mpg  cylinders  displacement horsepower  weight  acceleration  year\n",
       "0  18.0          8         307.0        130    3504          12.0    70\n",
       "1  15.0          8         350.0        165    3693          11.5    70\n",
       "2  18.0          8         318.0        150    3436          11.0    70\n",
       "3  16.0          8         304.0        150    3433          12.0    70\n",
       "4  17.0          8         302.0        140    3449          10.5    70"
      ]
     },
     "execution_count": 7,
     "metadata": {},
     "output_type": "execute_result"
    }
   ],
   "source": [
    "df.head()"
   ]
  },
  {
   "cell_type": "code",
   "execution_count": 8,
   "metadata": {},
   "outputs": [
    {
     "name": "stdout",
     "output_type": "stream",
     "text": [
      "<class 'pandas.core.frame.DataFrame'>\n",
      "RangeIndex: 397 entries, 0 to 396\n",
      "Data columns (total 7 columns):\n",
      " #   Column        Non-Null Count  Dtype  \n",
      "---  ------        --------------  -----  \n",
      " 0   mpg           397 non-null    float64\n",
      " 1   cylinders     397 non-null    int64  \n",
      " 2   displacement  397 non-null    float64\n",
      " 3   horsepower    397 non-null    object \n",
      " 4   weight        397 non-null    int64  \n",
      " 5   acceleration  397 non-null    float64\n",
      " 6   year          397 non-null    int64  \n",
      "dtypes: float64(3), int64(3), object(1)\n",
      "memory usage: 21.8+ KB\n"
     ]
    }
   ],
   "source": [
    "df.info()"
   ]
  },
  {
   "cell_type": "code",
   "execution_count": 9,
   "metadata": {},
   "outputs": [
    {
     "name": "stdout",
     "output_type": "stream",
     "text": [
      "False    397\n",
      "Name: mpg, dtype: int64\n",
      "False    397\n",
      "Name: cylinders, dtype: int64\n",
      "False    397\n",
      "Name: displacement, dtype: int64\n",
      "False    397\n",
      "Name: horsepower, dtype: int64\n",
      "False    397\n",
      "Name: weight, dtype: int64\n",
      "False    397\n",
      "Name: acceleration, dtype: int64\n",
      "False    397\n",
      "Name: year, dtype: int64\n"
     ]
    }
   ],
   "source": [
    "for i in df.columns:\n",
    "    print(df[i].isnull().value_counts())"
   ]
  },
  {
   "cell_type": "code",
   "execution_count": 10,
   "metadata": {},
   "outputs": [
    {
     "data": {
      "text/html": [
       "<div>\n",
       "<style scoped>\n",
       "    .dataframe tbody tr th:only-of-type {\n",
       "        vertical-align: middle;\n",
       "    }\n",
       "\n",
       "    .dataframe tbody tr th {\n",
       "        vertical-align: top;\n",
       "    }\n",
       "\n",
       "    .dataframe thead th {\n",
       "        text-align: right;\n",
       "    }\n",
       "</style>\n",
       "<table border=\"1\" class=\"dataframe\">\n",
       "  <thead>\n",
       "    <tr style=\"text-align: right;\">\n",
       "      <th></th>\n",
       "      <th>mpg</th>\n",
       "      <th>cylinders</th>\n",
       "      <th>displacement</th>\n",
       "      <th>weight</th>\n",
       "      <th>acceleration</th>\n",
       "      <th>year</th>\n",
       "    </tr>\n",
       "  </thead>\n",
       "  <tbody>\n",
       "    <tr>\n",
       "      <th>mpg</th>\n",
       "      <td>1.000000</td>\n",
       "      <td>-0.776260</td>\n",
       "      <td>-0.804443</td>\n",
       "      <td>-0.831739</td>\n",
       "      <td>0.422297</td>\n",
       "      <td>0.581469</td>\n",
       "    </tr>\n",
       "    <tr>\n",
       "      <th>cylinders</th>\n",
       "      <td>-0.776260</td>\n",
       "      <td>1.000000</td>\n",
       "      <td>0.950920</td>\n",
       "      <td>0.897017</td>\n",
       "      <td>-0.504061</td>\n",
       "      <td>-0.346717</td>\n",
       "    </tr>\n",
       "    <tr>\n",
       "      <th>displacement</th>\n",
       "      <td>-0.804443</td>\n",
       "      <td>0.950920</td>\n",
       "      <td>1.000000</td>\n",
       "      <td>0.933104</td>\n",
       "      <td>-0.544162</td>\n",
       "      <td>-0.369804</td>\n",
       "    </tr>\n",
       "    <tr>\n",
       "      <th>weight</th>\n",
       "      <td>-0.831739</td>\n",
       "      <td>0.897017</td>\n",
       "      <td>0.933104</td>\n",
       "      <td>1.000000</td>\n",
       "      <td>-0.419502</td>\n",
       "      <td>-0.307900</td>\n",
       "    </tr>\n",
       "    <tr>\n",
       "      <th>acceleration</th>\n",
       "      <td>0.422297</td>\n",
       "      <td>-0.504061</td>\n",
       "      <td>-0.544162</td>\n",
       "      <td>-0.419502</td>\n",
       "      <td>1.000000</td>\n",
       "      <td>0.282901</td>\n",
       "    </tr>\n",
       "    <tr>\n",
       "      <th>year</th>\n",
       "      <td>0.581469</td>\n",
       "      <td>-0.346717</td>\n",
       "      <td>-0.369804</td>\n",
       "      <td>-0.307900</td>\n",
       "      <td>0.282901</td>\n",
       "      <td>1.000000</td>\n",
       "    </tr>\n",
       "  </tbody>\n",
       "</table>\n",
       "</div>"
      ],
      "text/plain": [
       "                   mpg  cylinders  displacement    weight  acceleration  \\\n",
       "mpg           1.000000  -0.776260     -0.804443 -0.831739      0.422297   \n",
       "cylinders    -0.776260   1.000000      0.950920  0.897017     -0.504061   \n",
       "displacement -0.804443   0.950920      1.000000  0.933104     -0.544162   \n",
       "weight       -0.831739   0.897017      0.933104  1.000000     -0.419502   \n",
       "acceleration  0.422297  -0.504061     -0.544162 -0.419502      1.000000   \n",
       "year          0.581469  -0.346717     -0.369804 -0.307900      0.282901   \n",
       "\n",
       "                  year  \n",
       "mpg           0.581469  \n",
       "cylinders    -0.346717  \n",
       "displacement -0.369804  \n",
       "weight       -0.307900  \n",
       "acceleration  0.282901  \n",
       "year          1.000000  "
      ]
     },
     "execution_count": 10,
     "metadata": {},
     "output_type": "execute_result"
    }
   ],
   "source": [
    "df.corr()"
   ]
  },
  {
   "cell_type": "markdown",
   "metadata": {},
   "source": [
    "# Linear Regression"
   ]
  },
  {
   "cell_type": "code",
   "execution_count": 11,
   "metadata": {},
   "outputs": [],
   "source": [
    "x = df[['cylinders','displacement','weight','acceleration','year']].to_numpy()\n",
    "y = df['mpg'].to_numpy()"
   ]
  },
  {
   "cell_type": "code",
   "execution_count": 12,
   "metadata": {},
   "outputs": [],
   "source": [
    "def normal_equation(X, Y):\n",
    "    beta = np.dot((np.linalg.inv(np.dot(X.T,X))), np.dot(X.T,Y))\n",
    "\n",
    "    return beta"
   ]
  },
  {
   "cell_type": "code",
   "execution_count": 13,
   "metadata": {},
   "outputs": [],
   "source": [
    "beta = normal_equation(x,y)"
   ]
  },
  {
   "cell_type": "code",
   "execution_count": 14,
   "metadata": {},
   "outputs": [
    {
     "data": {
      "text/plain": [
       "array([-0.49639433,  0.00769003, -0.00694174,  0.02978748,  0.59107344])"
      ]
     },
     "execution_count": 14,
     "metadata": {},
     "output_type": "execute_result"
    }
   ],
   "source": [
    "beta"
   ]
  },
  {
   "cell_type": "code",
   "execution_count": 15,
   "metadata": {},
   "outputs": [],
   "source": [
    "y_hat = np.dot(x,beta)"
   ]
  },
  {
   "cell_type": "code",
   "execution_count": 16,
   "metadata": {},
   "outputs": [
    {
     "data": {
      "text/plain": [
       "array([[   8. ,  307. , 3504. ,   12. ,   70. ],\n",
       "       [   8. ,  350. , 3693. ,   11.5,   70. ],\n",
       "       [   8. ,  318. , 3436. ,   11. ,   70. ],\n",
       "       ...,\n",
       "       [   4. ,  135. , 2295. ,   11.6,   82. ],\n",
       "       [   4. ,  120. , 2625. ,   18.6,   82. ],\n",
       "       [   4. ,  119. , 2720. ,   19.4,   82. ]])"
      ]
     },
     "execution_count": 16,
     "metadata": {},
     "output_type": "execute_result"
    }
   ],
   "source": [
    "x"
   ]
  },
  {
   "cell_type": "code",
   "execution_count": 17,
   "metadata": {},
   "outputs": [
    {
     "data": {
      "text/plain": [
       "array([-0.49639433,  0.00769003, -0.00694174,  0.02978748,  0.59107344])"
      ]
     },
     "execution_count": 17,
     "metadata": {},
     "output_type": "execute_result"
    }
   ],
   "source": [
    "beta"
   ]
  },
  {
   "cell_type": "code",
   "execution_count": 18,
   "metadata": {
    "scrolled": true
   },
   "outputs": [
    {
     "data": {
      "text/plain": [
       "array([15.79842565, 14.8022147 , 16.32526663, 16.26821893, 16.09708986,\n",
       "       10.86679973, 10.93902036, 11.10801921, 10.4836345 , 13.93060059,\n",
       "       15.91373029, 15.20416422, 14.65510299, 19.77862112, 24.23954696,\n",
       "       20.71516337, 21.13241591, 22.45310461, 25.78151327, 28.00805072,\n",
       "       22.20842429, 23.77589228, 24.22398019, 25.18455828, 21.99218111,\n",
       "        8.55330162,  9.8345929 ,  9.83285157,  7.44452041, 26.37258671,\n",
       "       25.80285255, 25.80044314, 27.09742634, 22.87463484, 17.30717458,\n",
       "       18.26301641, 18.45044333, 18.40920715, 11.82624528, 10.42570985,\n",
       "       12.26041209, 12.39436822,  6.88658623,  8.48303359,  5.74798899,\n",
       "       20.81257937, 24.9074985 , 18.57438434, 19.55215908, 25.92518729,\n",
       "       26.55239566, 26.77184089, 26.7545894 , 28.78488995, 29.87347051,\n",
       "       28.56138468, 27.71997548, 26.08911091, 27.0697408 , 26.37097197,\n",
       "       25.51346568, 26.54907899, 11.96610578, 11.5800743 , 12.72960763,\n",
       "       13.01013523, 15.77639679, 10.05174671, 10.42807082, 10.74739075,\n",
       "       11.33812374, 25.83428874, 14.27900199, 12.91675535, 11.5772996 ,\n",
       "       13.14712214, 21.57400554, 24.60767496, 21.39593296, 26.65066377,\n",
       "       25.3610316 , 25.9413343 , 24.53043746, 26.75022484, 27.23148723,\n",
       "       13.79482903, 16.36747022, 14.57230364, 13.87300969, 15.77603564,\n",
       "        8.44329959, 11.62275047, 11.97684207, 12.64241131, 10.01935322,\n",
       "        8.63528832, 15.74889914, 20.72658148, 19.87366059, 21.98726375,\n",
       "       21.61300594, 22.01041405, 28.99786494,  7.98237929,  8.56939619,\n",
       "       10.02600669, 11.010182  , 23.04038734, 26.65445833, 26.15313127,\n",
       "       25.97040618, 27.85536012, 26.61662142, 24.61899854, 26.65507651,\n",
       "       13.91978031, 12.83944497, 29.30633714, 27.53626294, 24.53290493,\n",
       "       22.64607939, 18.35533123, 24.0452796 , 22.28631274, 16.76185166,\n",
       "       21.24191718, 22.84796541, 22.88377364, 20.03232577, 29.39094293,\n",
       "       26.1693349 , 30.18035574, 25.69095102, 16.94325255, 18.06887915,\n",
       "       17.90232003, 13.76195737, 10.27248287, 11.676515  , 10.37148874,\n",
       "       13.01677708, 27.59525736, 29.19644417, 26.96571163, 31.38286717,\n",
       "       29.05379095, 28.12668551, 28.27448253, 27.47178225, 25.84548761,\n",
       "       26.44839129, 28.95449362, 20.90116614, 19.73977801, 20.0761423 ,\n",
       "       21.93349719, 11.37388913, 12.6465726 , 12.01276467, 11.13301184,\n",
       "       16.63270642, 16.77376564, 18.00944978, 17.37388329, 22.47940979,\n",
       "       20.41693453, 21.04082478, 28.49695043, 25.60867591, 23.38460449,\n",
       "       25.97961879, 25.02095011, 28.09704362, 26.09970866, 22.38490995,\n",
       "       30.00791188, 21.35269591, 24.9750547 , 23.24740281, 23.263925  ,\n",
       "       25.13617362, 31.10558481, 27.1161013 , 28.92079798, 26.60229207,\n",
       "       28.56324665, 28.88273888, 14.42369827, 14.69721207, 16.19907658,\n",
       "       14.77148205, 21.68956096, 21.02199442, 23.09696672, 22.83630076,\n",
       "       30.1245022 , 29.32600966, 30.60494281, 31.6936795 , 18.85642584,\n",
       "       19.681489  , 19.04564575, 22.29249132, 31.37667266, 30.28198551,\n",
       "       29.21100666, 26.61216051, 22.53689745, 16.43860396, 21.81167101,\n",
       "       23.26527428, 17.21515313, 13.59755409, 15.85064006, 16.8551026 ,\n",
       "       17.74665539, 30.63591496, 29.86208052, 32.01996544, 28.96097011,\n",
       "       31.17947964, 17.32536006, 15.92341463, 15.65622362, 14.49295882,\n",
       "       20.51039388, 21.03864216, 19.59327577, 20.55313263, 15.65401945,\n",
       "       15.66024987, 14.95790323, 14.58018569, 31.23795747, 26.14451012,\n",
       "       29.09210642, 25.94983626, 30.54958332, 30.35021539, 30.98217548,\n",
       "       29.49060809, 24.54795978, 26.79033263, 26.15927854, 31.67133485,\n",
       "       32.80558545, 31.51650082, 30.95645334, 32.81133021, 21.23473952,\n",
       "       19.04380704, 20.0542383 , 20.93463566, 23.3043176 , 24.5517578 ,\n",
       "       26.77195552, 21.55780299, 23.13881545, 21.90932757, 23.84968408,\n",
       "       20.28355406, 21.88785496, 21.09577533, 21.38662468, 22.54031256,\n",
       "       16.66380131, 30.40382231, 27.80074839, 29.50514349, 29.87744723,\n",
       "       28.13099907, 26.76017624, 25.9849437 , 28.78221854, 25.45765354,\n",
       "       22.98689025, 26.11415091, 21.17815355, 31.4323388 , 30.54563581,\n",
       "       23.42562059, 25.04077774, 26.23952977, 23.37788079, 22.61692557,\n",
       "       18.87156011, 19.5872149 , 18.36146912, 19.03499035, 15.59301408,\n",
       "       17.70700333, 20.1987324 , 18.52884794, 32.44781645, 32.11340446,\n",
       "       32.59835907, 27.55209032, 21.71449951, 18.86068206, 24.38810459,\n",
       "       21.64359348, 30.63804908, 31.03577467, 31.91248614, 31.06099153,\n",
       "       27.81257863, 27.36959975, 26.68837727, 28.52053178, 31.60871084,\n",
       "       32.88337505, 31.79914252, 32.43478641, 28.3630119 , 26.99326794,\n",
       "       26.2141821 , 23.12477621, 31.32835058, 27.97341661, 29.09848482,\n",
       "       29.76603377, 30.86055461, 31.8477695 , 27.49201635, 31.8788032 ,\n",
       "       32.16526546, 30.48940602, 25.84904153, 24.51176149, 33.56894276,\n",
       "       33.73118483, 31.69237774, 33.63295261, 25.73855446, 29.90833237,\n",
       "       29.33392792, 26.63711472, 30.7329386 , 30.11226158, 29.2496013 ,\n",
       "       29.33260256, 27.68804446, 30.75773909, 34.81954211, 34.02547006,\n",
       "       34.7763835 , 32.83283269, 33.4129687 , 32.86054479, 33.28841407,\n",
       "       31.7667086 , 32.93169751, 30.74025906, 31.9194008 , 31.02618474,\n",
       "       31.8019036 , 30.90924031, 29.09469521, 29.06780665, 25.16151707,\n",
       "       24.66158016, 26.43479024, 26.09310247, 23.43958706, 21.30529297,\n",
       "       25.70423676, 23.07018999, 29.84433571, 29.57158742, 31.25444064,\n",
       "       29.95131042, 30.46931044, 29.19416094, 28.15948479, 34.00100536,\n",
       "       33.66735045, 34.03127354, 32.97658092, 33.00019816, 32.84301303,\n",
       "       32.43066447, 32.23217494, 33.98853479, 34.00938602, 33.81602763,\n",
       "       26.92664826, 27.08149136, 30.16961556, 28.0317921 , 29.50412373,\n",
       "       31.45591734, 27.68083613, 28.65628513, 33.17524802, 31.93484519,\n",
       "       29.7372337 , 29.09390858])"
      ]
     },
     "execution_count": 18,
     "metadata": {},
     "output_type": "execute_result"
    }
   ],
   "source": [
    "y_hat"
   ]
  },
  {
   "cell_type": "code",
   "execution_count": 19,
   "metadata": {
    "scrolled": true
   },
   "outputs": [
    {
     "data": {
      "text/plain": [
       "397"
      ]
     },
     "execution_count": 19,
     "metadata": {},
     "output_type": "execute_result"
    }
   ],
   "source": [
    "len(y_hat)"
   ]
  },
  {
   "cell_type": "markdown",
   "metadata": {},
   "source": [
    "## 알고보니 horsepower 변수에 ? 가 5개 있었음"
   ]
  },
  {
   "cell_type": "code",
   "execution_count": 20,
   "metadata": {
    "scrolled": true
   },
   "outputs": [
    {
     "data": {
      "text/plain": [
       "5"
      ]
     },
     "execution_count": 20,
     "metadata": {},
     "output_type": "execute_result"
    }
   ],
   "source": [
    "sum(df['horsepower'] == '?')"
   ]
  },
  {
   "cell_type": "code",
   "execution_count": 21,
   "metadata": {},
   "outputs": [],
   "source": [
    "df1 = df[df['horsepower']!='?']"
   ]
  },
  {
   "cell_type": "code",
   "execution_count": 22,
   "metadata": {},
   "outputs": [
    {
     "data": {
      "text/html": [
       "<div>\n",
       "<style scoped>\n",
       "    .dataframe tbody tr th:only-of-type {\n",
       "        vertical-align: middle;\n",
       "    }\n",
       "\n",
       "    .dataframe tbody tr th {\n",
       "        vertical-align: top;\n",
       "    }\n",
       "\n",
       "    .dataframe thead th {\n",
       "        text-align: right;\n",
       "    }\n",
       "</style>\n",
       "<table border=\"1\" class=\"dataframe\">\n",
       "  <thead>\n",
       "    <tr style=\"text-align: right;\">\n",
       "      <th></th>\n",
       "      <th>mpg</th>\n",
       "      <th>cylinders</th>\n",
       "      <th>displacement</th>\n",
       "      <th>horsepower</th>\n",
       "      <th>weight</th>\n",
       "      <th>acceleration</th>\n",
       "      <th>year</th>\n",
       "    </tr>\n",
       "  </thead>\n",
       "  <tbody>\n",
       "    <tr>\n",
       "      <th>0</th>\n",
       "      <td>18.0</td>\n",
       "      <td>8</td>\n",
       "      <td>307.0</td>\n",
       "      <td>130</td>\n",
       "      <td>3504</td>\n",
       "      <td>12.0</td>\n",
       "      <td>70</td>\n",
       "    </tr>\n",
       "    <tr>\n",
       "      <th>1</th>\n",
       "      <td>15.0</td>\n",
       "      <td>8</td>\n",
       "      <td>350.0</td>\n",
       "      <td>165</td>\n",
       "      <td>3693</td>\n",
       "      <td>11.5</td>\n",
       "      <td>70</td>\n",
       "    </tr>\n",
       "    <tr>\n",
       "      <th>2</th>\n",
       "      <td>18.0</td>\n",
       "      <td>8</td>\n",
       "      <td>318.0</td>\n",
       "      <td>150</td>\n",
       "      <td>3436</td>\n",
       "      <td>11.0</td>\n",
       "      <td>70</td>\n",
       "    </tr>\n",
       "    <tr>\n",
       "      <th>3</th>\n",
       "      <td>16.0</td>\n",
       "      <td>8</td>\n",
       "      <td>304.0</td>\n",
       "      <td>150</td>\n",
       "      <td>3433</td>\n",
       "      <td>12.0</td>\n",
       "      <td>70</td>\n",
       "    </tr>\n",
       "    <tr>\n",
       "      <th>4</th>\n",
       "      <td>17.0</td>\n",
       "      <td>8</td>\n",
       "      <td>302.0</td>\n",
       "      <td>140</td>\n",
       "      <td>3449</td>\n",
       "      <td>10.5</td>\n",
       "      <td>70</td>\n",
       "    </tr>\n",
       "    <tr>\n",
       "      <th>...</th>\n",
       "      <td>...</td>\n",
       "      <td>...</td>\n",
       "      <td>...</td>\n",
       "      <td>...</td>\n",
       "      <td>...</td>\n",
       "      <td>...</td>\n",
       "      <td>...</td>\n",
       "    </tr>\n",
       "    <tr>\n",
       "      <th>392</th>\n",
       "      <td>27.0</td>\n",
       "      <td>4</td>\n",
       "      <td>140.0</td>\n",
       "      <td>86</td>\n",
       "      <td>2790</td>\n",
       "      <td>15.6</td>\n",
       "      <td>82</td>\n",
       "    </tr>\n",
       "    <tr>\n",
       "      <th>393</th>\n",
       "      <td>44.0</td>\n",
       "      <td>4</td>\n",
       "      <td>97.0</td>\n",
       "      <td>52</td>\n",
       "      <td>2130</td>\n",
       "      <td>24.6</td>\n",
       "      <td>82</td>\n",
       "    </tr>\n",
       "    <tr>\n",
       "      <th>394</th>\n",
       "      <td>32.0</td>\n",
       "      <td>4</td>\n",
       "      <td>135.0</td>\n",
       "      <td>84</td>\n",
       "      <td>2295</td>\n",
       "      <td>11.6</td>\n",
       "      <td>82</td>\n",
       "    </tr>\n",
       "    <tr>\n",
       "      <th>395</th>\n",
       "      <td>28.0</td>\n",
       "      <td>4</td>\n",
       "      <td>120.0</td>\n",
       "      <td>79</td>\n",
       "      <td>2625</td>\n",
       "      <td>18.6</td>\n",
       "      <td>82</td>\n",
       "    </tr>\n",
       "    <tr>\n",
       "      <th>396</th>\n",
       "      <td>31.0</td>\n",
       "      <td>4</td>\n",
       "      <td>119.0</td>\n",
       "      <td>82</td>\n",
       "      <td>2720</td>\n",
       "      <td>19.4</td>\n",
       "      <td>82</td>\n",
       "    </tr>\n",
       "  </tbody>\n",
       "</table>\n",
       "<p>392 rows × 7 columns</p>\n",
       "</div>"
      ],
      "text/plain": [
       "      mpg  cylinders  displacement horsepower  weight  acceleration  year\n",
       "0    18.0          8         307.0        130    3504          12.0    70\n",
       "1    15.0          8         350.0        165    3693          11.5    70\n",
       "2    18.0          8         318.0        150    3436          11.0    70\n",
       "3    16.0          8         304.0        150    3433          12.0    70\n",
       "4    17.0          8         302.0        140    3449          10.5    70\n",
       "..    ...        ...           ...        ...     ...           ...   ...\n",
       "392  27.0          4         140.0         86    2790          15.6    82\n",
       "393  44.0          4          97.0         52    2130          24.6    82\n",
       "394  32.0          4         135.0         84    2295          11.6    82\n",
       "395  28.0          4         120.0         79    2625          18.6    82\n",
       "396  31.0          4         119.0         82    2720          19.4    82\n",
       "\n",
       "[392 rows x 7 columns]"
      ]
     },
     "execution_count": 22,
     "metadata": {},
     "output_type": "execute_result"
    }
   ],
   "source": [
    "df1"
   ]
  },
  {
   "cell_type": "code",
   "execution_count": 23,
   "metadata": {},
   "outputs": [],
   "source": [
    "x1 = df1[['cylinders','displacement','weight','acceleration','year']].to_numpy()\n",
    "y1 = df1['mpg'].to_numpy()"
   ]
  },
  {
   "cell_type": "code",
   "execution_count": 24,
   "metadata": {},
   "outputs": [
    {
     "data": {
      "text/plain": [
       "array([-0.51578135,  0.00757069, -0.00685936,  0.03240177,  0.58887515])"
      ]
     },
     "execution_count": 24,
     "metadata": {},
     "output_type": "execute_result"
    }
   ],
   "source": [
    "beta1 = normal_equation(x1,y1)\n",
    "beta1"
   ]
  },
  {
   "cell_type": "code",
   "execution_count": 25,
   "metadata": {
    "scrolled": true
   },
   "outputs": [
    {
     "data": {
      "text/plain": [
       "array([15.79842565, 14.8022147 , 16.32526663, 16.26821893, 16.09708986,\n",
       "       10.86679973, 10.93902036, 11.10801921, 10.4836345 , 13.93060059,\n",
       "       15.91373029, 15.20416422, 14.65510299, 19.77862112, 24.23954696,\n",
       "       20.71516337, 21.13241591, 22.45310461, 25.78151327, 28.00805072,\n",
       "       22.20842429, 23.77589228, 24.22398019, 25.18455828, 21.99218111,\n",
       "        8.55330162,  9.8345929 ,  9.83285157,  7.44452041, 26.37258671,\n",
       "       25.80285255, 25.80044314, 22.87463484, 17.30717458, 18.26301641,\n",
       "       18.45044333, 18.40920715, 11.82624528, 10.42570985, 12.26041209,\n",
       "       12.39436822,  6.88658623,  8.48303359,  5.74798899, 20.81257937,\n",
       "       24.9074985 , 18.57438434, 19.55215908, 25.92518729, 26.55239566,\n",
       "       26.77184089, 26.7545894 , 28.78488995, 29.87347051, 28.56138468,\n",
       "       27.71997548, 26.08911091, 27.0697408 , 26.37097197, 25.51346568,\n",
       "       26.54907899, 11.96610578, 11.5800743 , 12.72960763, 13.01013523,\n",
       "       15.77639679, 10.05174671, 10.42807082, 10.74739075, 11.33812374,\n",
       "       25.83428874, 14.27900199, 12.91675535, 11.5772996 , 13.14712214,\n",
       "       21.57400554, 24.60767496, 21.39593296, 26.65066377, 25.3610316 ,\n",
       "       25.9413343 , 24.53043746, 26.75022484, 27.23148723, 13.79482903,\n",
       "       16.36747022, 14.57230364, 13.87300969, 15.77603564,  8.44329959,\n",
       "       11.62275047, 11.97684207, 12.64241131, 10.01935322,  8.63528832,\n",
       "       15.74889914, 20.72658148, 19.87366059, 21.98726375, 21.61300594,\n",
       "       22.01041405, 28.99786494,  7.98237929,  8.56939619, 10.02600669,\n",
       "       11.010182  , 23.04038734, 26.65445833, 26.15313127, 25.97040618,\n",
       "       27.85536012, 26.61662142, 24.61899854, 26.65507651, 13.91978031,\n",
       "       12.83944497, 29.30633714, 27.53626294, 24.53290493, 22.64607939,\n",
       "       18.35533123, 24.0452796 , 22.28631274, 16.76185166, 21.24191718,\n",
       "       22.88377364, 20.03232577, 29.39094293, 26.1693349 , 30.18035574,\n",
       "       25.69095102, 16.94325255, 18.06887915, 17.90232003, 13.76195737,\n",
       "       10.27248287, 11.676515  , 10.37148874, 13.01677708, 27.59525736,\n",
       "       29.19644417, 26.96571163, 31.38286717, 29.05379095, 28.12668551,\n",
       "       28.27448253, 27.47178225, 25.84548761, 26.44839129, 28.95449362,\n",
       "       20.90116614, 19.73977801, 20.0761423 , 21.93349719, 11.37388913,\n",
       "       12.6465726 , 12.01276467, 11.13301184, 16.63270642, 16.77376564,\n",
       "       18.00944978, 17.37388329, 22.47940979, 20.41693453, 21.04082478,\n",
       "       28.49695043, 25.60867591, 23.38460449, 25.97961879, 25.02095011,\n",
       "       28.09704362, 26.09970866, 22.38490995, 30.00791188, 21.35269591,\n",
       "       24.9750547 , 23.24740281, 23.263925  , 25.13617362, 31.10558481,\n",
       "       27.1161013 , 28.92079798, 26.60229207, 28.56324665, 28.88273888,\n",
       "       14.42369827, 14.69721207, 16.19907658, 14.77148205, 21.68956096,\n",
       "       21.02199442, 23.09696672, 22.83630076, 30.1245022 , 29.32600966,\n",
       "       30.60494281, 31.6936795 , 18.85642584, 19.681489  , 19.04564575,\n",
       "       22.29249132, 31.37667266, 30.28198551, 29.21100666, 26.61216051,\n",
       "       22.53689745, 16.43860396, 21.81167101, 23.26527428, 17.21515313,\n",
       "       13.59755409, 15.85064006, 16.8551026 , 17.74665539, 30.63591496,\n",
       "       29.86208052, 32.01996544, 28.96097011, 31.17947964, 17.32536006,\n",
       "       15.92341463, 15.65622362, 14.49295882, 20.51039388, 21.03864216,\n",
       "       19.59327577, 20.55313263, 15.65401945, 15.66024987, 14.95790323,\n",
       "       14.58018569, 31.23795747, 26.14451012, 29.09210642, 25.94983626,\n",
       "       30.54958332, 30.35021539, 30.98217548, 29.49060809, 24.54795978,\n",
       "       26.79033263, 26.15927854, 31.67133485, 32.80558545, 31.51650082,\n",
       "       30.95645334, 32.81133021, 21.23473952, 19.04380704, 20.0542383 ,\n",
       "       20.93463566, 23.3043176 , 24.5517578 , 26.77195552, 21.55780299,\n",
       "       23.13881545, 21.90932757, 23.84968408, 20.28355406, 21.88785496,\n",
       "       21.09577533, 21.38662468, 22.54031256, 16.66380131, 30.40382231,\n",
       "       27.80074839, 29.50514349, 29.87744723, 28.13099907, 26.76017624,\n",
       "       25.9849437 , 28.78221854, 25.45765354, 22.98689025, 26.11415091,\n",
       "       21.17815355, 31.4323388 , 30.54563581, 23.42562059, 25.04077774,\n",
       "       26.23952977, 23.37788079, 22.61692557, 18.87156011, 19.5872149 ,\n",
       "       18.36146912, 19.03499035, 15.59301408, 17.70700333, 20.1987324 ,\n",
       "       18.52884794, 32.44781645, 32.11340446, 32.59835907, 27.55209032,\n",
       "       21.71449951, 18.86068206, 24.38810459, 21.64359348, 30.63804908,\n",
       "       31.03577467, 31.91248614, 31.06099153, 27.81257863, 27.36959975,\n",
       "       26.68837727, 28.52053178, 31.60871084, 32.88337505, 31.79914252,\n",
       "       32.43478641, 28.3630119 , 26.99326794, 26.2141821 , 23.12477621,\n",
       "       31.32835058, 27.97341661, 29.09848482, 29.76603377, 30.86055461,\n",
       "       31.8477695 , 27.49201635, 31.8788032 , 32.16526546, 30.48940602,\n",
       "       25.84904153, 24.51176149, 33.56894276, 31.69237774, 33.63295261,\n",
       "       25.73855446, 29.90833237, 29.33392792, 30.7329386 , 30.11226158,\n",
       "       29.2496013 , 29.33260256, 27.68804446, 30.75773909, 34.81954211,\n",
       "       34.02547006, 34.7763835 , 32.83283269, 33.4129687 , 32.86054479,\n",
       "       33.28841407, 31.7667086 , 32.93169751, 30.74025906, 31.9194008 ,\n",
       "       31.8019036 , 30.90924031, 29.09469521, 29.06780665, 25.16151707,\n",
       "       24.66158016, 26.43479024, 26.09310247, 23.43958706, 21.30529297,\n",
       "       25.70423676, 23.07018999, 29.84433571, 29.57158742, 31.25444064,\n",
       "       29.95131042, 30.46931044, 29.19416094, 28.15948479, 34.00100536,\n",
       "       33.66735045, 34.03127354, 32.97658092, 33.00019816, 32.84301303,\n",
       "       32.43066447, 32.23217494, 33.98853479, 34.00938602, 33.81602763,\n",
       "       26.92664826, 27.08149136, 30.16961556, 28.0317921 , 29.50412373,\n",
       "       31.45591734, 27.68083613, 28.65628513, 33.17524802, 31.93484519,\n",
       "       29.7372337 , 29.09390858])"
      ]
     },
     "execution_count": 25,
     "metadata": {},
     "output_type": "execute_result"
    }
   ],
   "source": [
    "y_hat1 = np.dot(x1,beta)\n",
    "y_hat1"
   ]
  },
  {
   "cell_type": "code",
   "execution_count": 26,
   "metadata": {},
   "outputs": [
    {
     "data": {
      "text/plain": [
       "392"
      ]
     },
     "execution_count": 26,
     "metadata": {},
     "output_type": "execute_result"
    }
   ],
   "source": [
    "len(y_hat1)"
   ]
  },
  {
   "cell_type": "markdown",
   "metadata": {},
   "source": [
    "계수랑 y_hat이 약간 바뀜"
   ]
  }
 ],
 "metadata": {
  "hide_input": false,
  "kernelspec": {
   "display_name": "Python 3",
   "language": "python",
   "name": "python3"
  },
  "language_info": {
   "codemirror_mode": {
    "name": "ipython",
    "version": 3
   },
   "file_extension": ".py",
   "mimetype": "text/x-python",
   "name": "python",
   "nbconvert_exporter": "python",
   "pygments_lexer": "ipython3",
   "version": "3.7.6"
  },
  "toc": {
   "base_numbering": 1,
   "nav_menu": {},
   "number_sections": true,
   "sideBar": true,
   "skip_h1_title": false,
   "title_cell": "Table of Contents",
   "title_sidebar": "Contents",
   "toc_cell": false,
   "toc_position": {},
   "toc_section_display": true,
   "toc_window_display": false
  },
  "varInspector": {
   "cols": {
    "lenName": 16,
    "lenType": 16,
    "lenVar": 40
   },
   "kernels_config": {
    "python": {
     "delete_cmd_postfix": "",
     "delete_cmd_prefix": "del ",
     "library": "var_list.py",
     "varRefreshCmd": "print(var_dic_list())"
    },
    "r": {
     "delete_cmd_postfix": ") ",
     "delete_cmd_prefix": "rm(",
     "library": "var_list.r",
     "varRefreshCmd": "cat(var_dic_list()) "
    }
   },
   "types_to_exclude": [
    "module",
    "function",
    "builtin_function_or_method",
    "instance",
    "_Feature"
   ],
   "window_display": false
  }
 },
 "nbformat": 4,
 "nbformat_minor": 4
}
