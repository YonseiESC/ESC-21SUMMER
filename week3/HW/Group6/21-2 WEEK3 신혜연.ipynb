{
  "nbformat": 4,
  "nbformat_minor": 0,
  "metadata": {
    "colab": {
      "name": "21-2 WEEK3 신혜연",
      "provenance": [],
      "collapsed_sections": []
    },
    "kernelspec": {
      "name": "python3",
      "display_name": "Python 3"
    },
    "language_info": {
      "name": "python"
    }
  },
  "cells": [
    {
      "cell_type": "markdown",
      "metadata": {
        "id": "9R3crvqnpFVk"
      },
      "source": [
        "Import Data"
      ]
    },
    {
      "cell_type": "code",
      "metadata": {
        "id": "8RgtOuj8pDeG"
      },
      "source": [
        "import numpy as np\n",
        "import pandas as pd\n",
        "from sklearn.model_selection import train_test_split\n",
        "from sklearn.linear_model import LinearRegression, Ridge, Lasso\n",
        "import matplotlib.pyplot as plt\n",
        "from sklearn.metrics import mean_squared_error"
      ],
      "execution_count": 2,
      "outputs": []
    },
    {
      "cell_type": "code",
      "metadata": {
        "colab": {
          "base_uri": "https://localhost:8080/"
        },
        "id": "lOah1s_6pcqO",
        "outputId": "f038b9a2-9226-413c-c4bb-2860e3b87774"
      },
      "source": [
        "!ls"
      ],
      "execution_count": 8,
      "outputs": [
        {
          "output_type": "stream",
          "text": [
            "data.csv  sample_data\n"
          ],
          "name": "stdout"
        }
      ]
    },
    {
      "cell_type": "code",
      "metadata": {
        "colab": {
          "base_uri": "https://localhost:8080/",
          "height": 201
        },
        "id": "zKIAH94gpH1S",
        "outputId": "e565bdfd-5f3d-4afb-bc58-eb624f7b72b7"
      },
      "source": [
        "data = pd.read_csv('/content/data-2.csv')\n",
        "data.head()\n",
        "#Age: 나이\n",
        "#Experience: 경력\n",
        "#Income: 수입\n",
        "#Family: 가족단위\n",
        "#CCAvg: 월 카드 사용량"
      ],
      "execution_count": 13,
      "outputs": [
        {
          "output_type": "execute_result",
          "data": {
            "text/html": [
              "<div>\n",
              "<style scoped>\n",
              "    .dataframe tbody tr th:only-of-type {\n",
              "        vertical-align: middle;\n",
              "    }\n",
              "\n",
              "    .dataframe tbody tr th {\n",
              "        vertical-align: top;\n",
              "    }\n",
              "\n",
              "    .dataframe thead th {\n",
              "        text-align: right;\n",
              "    }\n",
              "</style>\n",
              "<table border=\"1\" class=\"dataframe\">\n",
              "  <thead>\n",
              "    <tr style=\"text-align: right;\">\n",
              "      <th></th>\n",
              "      <th>Age</th>\n",
              "      <th>Experience</th>\n",
              "      <th>Income</th>\n",
              "      <th>Family</th>\n",
              "      <th>CCAvg</th>\n",
              "    </tr>\n",
              "  </thead>\n",
              "  <tbody>\n",
              "    <tr>\n",
              "      <th>0</th>\n",
              "      <td>25</td>\n",
              "      <td>1</td>\n",
              "      <td>49</td>\n",
              "      <td>4</td>\n",
              "      <td>1.6</td>\n",
              "    </tr>\n",
              "    <tr>\n",
              "      <th>1</th>\n",
              "      <td>45</td>\n",
              "      <td>19</td>\n",
              "      <td>34</td>\n",
              "      <td>3</td>\n",
              "      <td>1.5</td>\n",
              "    </tr>\n",
              "    <tr>\n",
              "      <th>2</th>\n",
              "      <td>39</td>\n",
              "      <td>15</td>\n",
              "      <td>11</td>\n",
              "      <td>1</td>\n",
              "      <td>1.0</td>\n",
              "    </tr>\n",
              "    <tr>\n",
              "      <th>3</th>\n",
              "      <td>35</td>\n",
              "      <td>9</td>\n",
              "      <td>100</td>\n",
              "      <td>1</td>\n",
              "      <td>2.7</td>\n",
              "    </tr>\n",
              "    <tr>\n",
              "      <th>4</th>\n",
              "      <td>35</td>\n",
              "      <td>8</td>\n",
              "      <td>45</td>\n",
              "      <td>4</td>\n",
              "      <td>1.0</td>\n",
              "    </tr>\n",
              "  </tbody>\n",
              "</table>\n",
              "</div>"
            ],
            "text/plain": [
              "   Age  Experience  Income  Family  CCAvg\n",
              "0   25           1      49       4    1.6\n",
              "1   45          19      34       3    1.5\n",
              "2   39          15      11       1    1.0\n",
              "3   35           9     100       1    2.7\n",
              "4   35           8      45       4    1.0"
            ]
          },
          "metadata": {
            "tags": []
          },
          "execution_count": 13
        }
      ]
    },
    {
      "cell_type": "code",
      "metadata": {
        "colab": {
          "base_uri": "https://localhost:8080/"
        },
        "id": "nl4tDT2GpO7s",
        "outputId": "d6e02c0b-fc1f-4865-b439-40c52537a6a1"
      },
      "source": [
        "#결측치 확인(없음)\n",
        "data.isnull().sum()"
      ],
      "execution_count": 14,
      "outputs": [
        {
          "output_type": "execute_result",
          "data": {
            "text/plain": [
              "Age           0\n",
              "Experience    0\n",
              "Income        0\n",
              "Family        0\n",
              "CCAvg         0\n",
              "dtype: int64"
            ]
          },
          "metadata": {
            "tags": []
          },
          "execution_count": 14
        }
      ]
    },
    {
      "cell_type": "code",
      "metadata": {
        "colab": {
          "base_uri": "https://localhost:8080/"
        },
        "id": "eAgoUQd6pP2y",
        "outputId": "30f121ed-3675-4ac9-e5aa-7e3e2ae72914"
      },
      "source": [
        "data.info()"
      ],
      "execution_count": 15,
      "outputs": [
        {
          "output_type": "stream",
          "text": [
            "<class 'pandas.core.frame.DataFrame'>\n",
            "RangeIndex: 2500 entries, 0 to 2499\n",
            "Data columns (total 5 columns):\n",
            " #   Column      Non-Null Count  Dtype  \n",
            "---  ------      --------------  -----  \n",
            " 0   Age         2500 non-null   int64  \n",
            " 1   Experience  2500 non-null   int64  \n",
            " 2   Income      2500 non-null   int64  \n",
            " 3   Family      2500 non-null   int64  \n",
            " 4   CCAvg       2500 non-null   float64\n",
            "dtypes: float64(1), int64(4)\n",
            "memory usage: 97.8 KB\n"
          ],
          "name": "stdout"
        }
      ]
    },
    {
      "cell_type": "code",
      "metadata": {
        "id": "SLjA80v5pRJw"
      },
      "source": [
        "y = data['Income']\n",
        "X = data.drop(['Income'], axis = 1)\n",
        "x_train, x_test, y_train, y_test = train_test_split(X, y, train_size = 0.7, random_state = 1000)"
      ],
      "execution_count": 16,
      "outputs": []
    },
    {
      "cell_type": "markdown",
      "metadata": {
        "id": "4-HkEl_1pR2z"
      },
      "source": [
        "Linear Regression"
      ]
    },
    {
      "cell_type": "code",
      "metadata": {
        "id": "JL3ThUTVpTbc"
      },
      "source": [
        "reg = LinearRegression()\n",
        "results1 = reg.fit(x_train, y_train)"
      ],
      "execution_count": 17,
      "outputs": []
    },
    {
      "cell_type": "code",
      "metadata": {
        "colab": {
          "base_uri": "https://localhost:8080/"
        },
        "id": "UUGVhU1YpUur",
        "outputId": "a836d92f-6878-4db7-f0e8-3174be3a6418"
      },
      "source": [
        "reg.coef_"
      ],
      "execution_count": 18,
      "outputs": [
        {
          "output_type": "execute_result",
          "data": {
            "text/plain": [
              "array([-3.07793956,  2.89401562, -3.37220023, 16.09065086])"
            ]
          },
          "metadata": {
            "tags": []
          },
          "execution_count": 18
        }
      ]
    },
    {
      "cell_type": "markdown",
      "metadata": {
        "id": "4I-XUBBgpXAp"
      },
      "source": [
        "Ridge Regression"
      ]
    },
    {
      "cell_type": "code",
      "metadata": {
        "colab": {
          "base_uri": "https://localhost:8080/"
        },
        "id": "sHgE9cyCpXz1",
        "outputId": "01d00b67-8cb9-45b8-90a9-ff56639f931a"
      },
      "source": [
        "rreg = Ridge(alpha = 0) # alpha = Lambda\n",
        "rreg.fit(x_train, y_train)"
      ],
      "execution_count": 19,
      "outputs": [
        {
          "output_type": "execute_result",
          "data": {
            "text/plain": [
              "Ridge(alpha=0, copy_X=True, fit_intercept=True, max_iter=None, normalize=False,\n",
              "      random_state=None, solver='auto', tol=0.001)"
            ]
          },
          "metadata": {
            "tags": []
          },
          "execution_count": 19
        }
      ]
    },
    {
      "cell_type": "code",
      "metadata": {
        "colab": {
          "base_uri": "https://localhost:8080/"
        },
        "id": "3IriAx1XpYkj",
        "outputId": "6267b0c6-06de-4400-db2f-3b12db4cdc8a"
      },
      "source": [
        "rreg.coef_"
      ],
      "execution_count": 20,
      "outputs": [
        {
          "output_type": "execute_result",
          "data": {
            "text/plain": [
              "array([-3.07793956,  2.89401562, -3.37220023, 16.09065086])"
            ]
          },
          "metadata": {
            "tags": []
          },
          "execution_count": 20
        }
      ]
    },
    {
      "cell_type": "code",
      "metadata": {
        "colab": {
          "base_uri": "https://localhost:8080/"
        },
        "id": "gwi25mGBpZVp",
        "outputId": "45d7ec81-154f-4a37-eea5-b45dcc6c596b"
      },
      "source": [
        "alpha = np.logspace(-3,3,7)\n",
        "alpha"
      ],
      "execution_count": 21,
      "outputs": [
        {
          "output_type": "execute_result",
          "data": {
            "text/plain": [
              "array([1.e-03, 1.e-02, 1.e-01, 1.e+00, 1.e+01, 1.e+02, 1.e+03])"
            ]
          },
          "metadata": {
            "tags": []
          },
          "execution_count": 21
        }
      ]
    },
    {
      "cell_type": "code",
      "metadata": {
        "colab": {
          "base_uri": "https://localhost:8080/",
          "height": 201
        },
        "id": "e2B91e-tpaWc",
        "outputId": "2463bf54-81c9-49ba-b5a6-344414c6cd0d"
      },
      "source": [
        "df = []\n",
        "acc_table = []\n",
        "\n",
        "for i, a in enumerate(alpha):\n",
        "\trreg = Ridge(alpha=a).fit(x_train, y_train)\n",
        "\tdf.append(pd.Series(np.hstack([rreg.intercept_, rreg.coef_])))\n",
        "\tpred_y = rreg.predict(x_test)\n",
        "\n",
        "df_ridge = pd.DataFrame(df,index = alpha).T\n",
        "df_ridge"
      ],
      "execution_count": 22,
      "outputs": [
        {
          "output_type": "execute_result",
          "data": {
            "text/html": [
              "<div>\n",
              "<style scoped>\n",
              "    .dataframe tbody tr th:only-of-type {\n",
              "        vertical-align: middle;\n",
              "    }\n",
              "\n",
              "    .dataframe tbody tr th {\n",
              "        vertical-align: top;\n",
              "    }\n",
              "\n",
              "    .dataframe thead th {\n",
              "        text-align: right;\n",
              "    }\n",
              "</style>\n",
              "<table border=\"1\" class=\"dataframe\">\n",
              "  <thead>\n",
              "    <tr style=\"text-align: right;\">\n",
              "      <th></th>\n",
              "      <th>0.001</th>\n",
              "      <th>0.010</th>\n",
              "      <th>0.100</th>\n",
              "      <th>1.000</th>\n",
              "      <th>10.000</th>\n",
              "      <th>100.000</th>\n",
              "      <th>1000.000</th>\n",
              "    </tr>\n",
              "  </thead>\n",
              "  <tbody>\n",
              "    <tr>\n",
              "      <th>0</th>\n",
              "      <td>132.296084</td>\n",
              "      <td>132.295649</td>\n",
              "      <td>132.291303</td>\n",
              "      <td>132.247877</td>\n",
              "      <td>131.817002</td>\n",
              "      <td>127.823048</td>\n",
              "      <td>105.704966</td>\n",
              "    </tr>\n",
              "    <tr>\n",
              "      <th>1</th>\n",
              "      <td>-3.077937</td>\n",
              "      <td>-3.077919</td>\n",
              "      <td>-3.077732</td>\n",
              "      <td>-3.075864</td>\n",
              "      <td>-3.057321</td>\n",
              "      <td>-2.884607</td>\n",
              "      <td>-1.883048</td>\n",
              "    </tr>\n",
              "    <tr>\n",
              "      <th>2</th>\n",
              "      <td>2.894014</td>\n",
              "      <td>2.893995</td>\n",
              "      <td>2.893806</td>\n",
              "      <td>2.891920</td>\n",
              "      <td>2.873198</td>\n",
              "      <td>2.698718</td>\n",
              "      <td>1.681685</td>\n",
              "    </tr>\n",
              "    <tr>\n",
              "      <th>3</th>\n",
              "      <td>-3.372199</td>\n",
              "      <td>-3.372192</td>\n",
              "      <td>-3.372122</td>\n",
              "      <td>-3.371422</td>\n",
              "      <td>-3.364435</td>\n",
              "      <td>-3.295822</td>\n",
              "      <td>-2.731156</td>\n",
              "    </tr>\n",
              "    <tr>\n",
              "      <th>4</th>\n",
              "      <td>16.090648</td>\n",
              "      <td>16.090622</td>\n",
              "      <td>16.090363</td>\n",
              "      <td>16.087768</td>\n",
              "      <td>16.061871</td>\n",
              "      <td>15.807207</td>\n",
              "      <td>13.634454</td>\n",
              "    </tr>\n",
              "  </tbody>\n",
              "</table>\n",
              "</div>"
            ],
            "text/plain": [
              "     0.001       0.010       0.100     ...    10.000      100.000     1000.000\n",
              "0  132.296084  132.295649  132.291303  ...  131.817002  127.823048  105.704966\n",
              "1   -3.077937   -3.077919   -3.077732  ...   -3.057321   -2.884607   -1.883048\n",
              "2    2.894014    2.893995    2.893806  ...    2.873198    2.698718    1.681685\n",
              "3   -3.372199   -3.372192   -3.372122  ...   -3.364435   -3.295822   -2.731156\n",
              "4   16.090648   16.090622   16.090363  ...   16.061871   15.807207   13.634454\n",
              "\n",
              "[5 rows x 7 columns]"
            ]
          },
          "metadata": {
            "tags": []
          },
          "execution_count": 22
        }
      ]
    },
    {
      "cell_type": "markdown",
      "metadata": {
        "id": "nreB2RywptaD"
      },
      "source": [
        "Lasso Regression"
      ]
    },
    {
      "cell_type": "code",
      "metadata": {
        "colab": {
          "base_uri": "https://localhost:8080/"
        },
        "id": "T__4aNlDpu_0",
        "outputId": "842e3d81-b8d8-4f04-8005-8c6d8d2abd98"
      },
      "source": [
        "lreg = Lasso(alpha = 0 ) # alpha = Lambda\n",
        "lreg.fit(x_train, y_train)"
      ],
      "execution_count": 23,
      "outputs": [
        {
          "output_type": "stream",
          "text": [
            "/usr/local/lib/python3.7/dist-packages/ipykernel_launcher.py:2: UserWarning: With alpha=0, this algorithm does not converge well. You are advised to use the LinearRegression estimator\n",
            "  \n",
            "/usr/local/lib/python3.7/dist-packages/sklearn/linear_model/_coordinate_descent.py:476: UserWarning: Coordinate descent with no regularization may lead to unexpected results and is discouraged.\n",
            "  positive)\n",
            "/usr/local/lib/python3.7/dist-packages/sklearn/linear_model/_coordinate_descent.py:476: ConvergenceWarning: Objective did not converge. You might want to increase the number of iterations. Duality gap: 1105890.1320882076, tolerance: 373.8484091999999\n",
            "  positive)\n"
          ],
          "name": "stderr"
        },
        {
          "output_type": "execute_result",
          "data": {
            "text/plain": [
              "Lasso(alpha=0, copy_X=True, fit_intercept=True, max_iter=1000, normalize=False,\n",
              "      positive=False, precompute=False, random_state=None, selection='cyclic',\n",
              "      tol=0.0001, warm_start=False)"
            ]
          },
          "metadata": {
            "tags": []
          },
          "execution_count": 23
        }
      ]
    },
    {
      "cell_type": "code",
      "metadata": {
        "colab": {
          "base_uri": "https://localhost:8080/"
        },
        "id": "gGWGCvsgpwu5",
        "outputId": "75ed2376-7d9e-4c06-845f-feb4e2701402"
      },
      "source": [
        "lreg.coef_"
      ],
      "execution_count": 24,
      "outputs": [
        {
          "output_type": "execute_result",
          "data": {
            "text/plain": [
              "array([-3.07790231,  2.8939786 , -3.37220244, 16.09065156])"
            ]
          },
          "metadata": {
            "tags": []
          },
          "execution_count": 24
        }
      ]
    },
    {
      "cell_type": "code",
      "metadata": {
        "colab": {
          "base_uri": "https://localhost:8080/",
          "height": 254
        },
        "id": "PN8PGKdipx2O",
        "outputId": "78d93c63-9855-4868-c695-74bd93b48fcb"
      },
      "source": [
        "df = []\n",
        "acc_table = []\n",
        "\n",
        "for i, a in enumerate(alpha):\n",
        "\tlreg = Lasso(alpha=a).fit(x_train, y_train)\n",
        "\tdf.append(pd.Series(np.hstack([lreg.intercept_, lreg.coef_])))\n",
        "\tpred_y = lreg.predict(x_test)\n",
        "    \n",
        "df_lasso = pd.DataFrame(df,index = alpha).T\n",
        "df_lasso"
      ],
      "execution_count": 25,
      "outputs": [
        {
          "output_type": "stream",
          "text": [
            "/usr/local/lib/python3.7/dist-packages/sklearn/linear_model/_coordinate_descent.py:476: ConvergenceWarning: Objective did not converge. You might want to increase the number of iterations. Duality gap: 3094.3793768864125, tolerance: 373.8484091999999\n",
            "  positive)\n"
          ],
          "name": "stderr"
        },
        {
          "output_type": "execute_result",
          "data": {
            "text/html": [
              "<div>\n",
              "<style scoped>\n",
              "    .dataframe tbody tr th:only-of-type {\n",
              "        vertical-align: middle;\n",
              "    }\n",
              "\n",
              "    .dataframe tbody tr th {\n",
              "        vertical-align: top;\n",
              "    }\n",
              "\n",
              "    .dataframe thead th {\n",
              "        text-align: right;\n",
              "    }\n",
              "</style>\n",
              "<table border=\"1\" class=\"dataframe\">\n",
              "  <thead>\n",
              "    <tr style=\"text-align: right;\">\n",
              "      <th></th>\n",
              "      <th>0.001</th>\n",
              "      <th>0.010</th>\n",
              "      <th>0.100</th>\n",
              "      <th>1.000</th>\n",
              "      <th>10.000</th>\n",
              "      <th>100.000</th>\n",
              "      <th>1000.000</th>\n",
              "    </tr>\n",
              "  </thead>\n",
              "  <tbody>\n",
              "    <tr>\n",
              "      <th>0</th>\n",
              "      <td>132.261976</td>\n",
              "      <td>131.960877</td>\n",
              "      <td>128.945930</td>\n",
              "      <td>98.937749</td>\n",
              "      <td>54.569493</td>\n",
              "      <td>73.876</td>\n",
              "      <td>73.876</td>\n",
              "    </tr>\n",
              "    <tr>\n",
              "      <th>1</th>\n",
              "      <td>-3.076625</td>\n",
              "      <td>-3.065044</td>\n",
              "      <td>-2.949074</td>\n",
              "      <td>-1.794975</td>\n",
              "      <td>-0.134206</td>\n",
              "      <td>-0.000</td>\n",
              "      <td>-0.000</td>\n",
              "    </tr>\n",
              "    <tr>\n",
              "      <th>2</th>\n",
              "      <td>2.892703</td>\n",
              "      <td>2.881139</td>\n",
              "      <td>2.765340</td>\n",
              "      <td>1.612913</td>\n",
              "      <td>-0.000000</td>\n",
              "      <td>-0.000</td>\n",
              "      <td>-0.000</td>\n",
              "    </tr>\n",
              "    <tr>\n",
              "      <th>3</th>\n",
              "      <td>-3.371595</td>\n",
              "      <td>-3.366136</td>\n",
              "      <td>-3.311548</td>\n",
              "      <td>-2.765340</td>\n",
              "      <td>-0.000000</td>\n",
              "      <td>-0.000</td>\n",
              "      <td>-0.000</td>\n",
              "    </tr>\n",
              "    <tr>\n",
              "      <th>4</th>\n",
              "      <td>16.090400</td>\n",
              "      <td>16.088142</td>\n",
              "      <td>16.065558</td>\n",
              "      <td>15.839618</td>\n",
              "      <td>13.184919</td>\n",
              "      <td>0.000</td>\n",
              "      <td>0.000</td>\n",
              "    </tr>\n",
              "  </tbody>\n",
              "</table>\n",
              "</div>"
            ],
            "text/plain": [
              "     0.001       0.010       0.100      1.000      10.000    100.000   1000.000\n",
              "0  132.261976  131.960877  128.945930  98.937749  54.569493    73.876    73.876\n",
              "1   -3.076625   -3.065044   -2.949074  -1.794975  -0.134206    -0.000    -0.000\n",
              "2    2.892703    2.881139    2.765340   1.612913  -0.000000    -0.000    -0.000\n",
              "3   -3.371595   -3.366136   -3.311548  -2.765340  -0.000000    -0.000    -0.000\n",
              "4   16.090400   16.088142   16.065558  15.839618  13.184919     0.000     0.000"
            ]
          },
          "metadata": {
            "tags": []
          },
          "execution_count": 25
        }
      ]
    },
    {
      "cell_type": "code",
      "metadata": {
        "colab": {
          "base_uri": "https://localhost:8080/",
          "height": 283
        },
        "id": "CuXBljjLpzXm",
        "outputId": "5f7a16a0-5e2c-4040-a88b-43e35ac74ccf"
      },
      "source": [
        "import matplotlib.pyplot as plt\n",
        "\n",
        "ax1 = plt.subplot(121)\n",
        "plt.semilogx(df_ridge.T)\n",
        "plt.xticks(alpha)\n",
        "plt.title(\"Ridge\")\n",
        "\n",
        "ax2 = plt.subplot(122)\n",
        "plt.semilogx(df_lasso.T)\n",
        "plt.xticks(alpha)\n",
        "plt.title(\"Lasso\")\n",
        "\n",
        "plt.show()"
      ],
      "execution_count": 26,
      "outputs": [
        {
          "output_type": "display_data",
          "data": {
            "image/png": "[encoded data removed]",
            "text/plain": [
              "<Figure size 432x288 with 2 Axes>"
            ]
          },
          "metadata": {
            "tags": [],
            "needs_background": "light"
          }
        }
      ]
    },
    {
      "cell_type": "code",
      "metadata": {
        "id": "5uukS79AqV58"
      },
      "source": [
        ""
      ],
      "execution_count": 26,
      "outputs": []
    }
  ]
}
