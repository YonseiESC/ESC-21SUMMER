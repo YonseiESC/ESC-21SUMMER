{
 "cells": [
  {
   "cell_type": "code",
   "execution_count": 2,
   "metadata": {},
   "outputs": [],
   "source": [
    "import numpy as np\n",
    "import pandas as pd\n",
    "from sklearn.model_selection import train_test_split\n",
    "from sklearn.linear_model import LinearRegression, Ridge, Lasso\n",
    "import matplotlib.pyplot as plt\n",
    "from sklearn.metrics import mean_squared_error"
   ]
  },
  {
   "cell_type": "code",
   "execution_count": 3,
   "metadata": {},
   "outputs": [
    {
     "data": {
      "text/html": [
       "<div>\n",
       "<style scoped>\n",
       "    .dataframe tbody tr th:only-of-type {\n",
       "        vertical-align: middle;\n",
       "    }\n",
       "\n",
       "    .dataframe tbody tr th {\n",
       "        vertical-align: top;\n",
       "    }\n",
       "\n",
       "    .dataframe thead th {\n",
       "        text-align: right;\n",
       "    }\n",
       "</style>\n",
       "<table border=\"1\" class=\"dataframe\">\n",
       "  <thead>\n",
       "    <tr style=\"text-align: right;\">\n",
       "      <th></th>\n",
       "      <th>Age</th>\n",
       "      <th>Experience</th>\n",
       "      <th>Income</th>\n",
       "      <th>Family</th>\n",
       "      <th>CCAvg</th>\n",
       "    </tr>\n",
       "  </thead>\n",
       "  <tbody>\n",
       "    <tr>\n",
       "      <th>0</th>\n",
       "      <td>25</td>\n",
       "      <td>1</td>\n",
       "      <td>49</td>\n",
       "      <td>4</td>\n",
       "      <td>1.6</td>\n",
       "    </tr>\n",
       "    <tr>\n",
       "      <th>1</th>\n",
       "      <td>45</td>\n",
       "      <td>19</td>\n",
       "      <td>34</td>\n",
       "      <td>3</td>\n",
       "      <td>1.5</td>\n",
       "    </tr>\n",
       "    <tr>\n",
       "      <th>2</th>\n",
       "      <td>39</td>\n",
       "      <td>15</td>\n",
       "      <td>11</td>\n",
       "      <td>1</td>\n",
       "      <td>1.0</td>\n",
       "    </tr>\n",
       "    <tr>\n",
       "      <th>3</th>\n",
       "      <td>35</td>\n",
       "      <td>9</td>\n",
       "      <td>100</td>\n",
       "      <td>1</td>\n",
       "      <td>2.7</td>\n",
       "    </tr>\n",
       "    <tr>\n",
       "      <th>4</th>\n",
       "      <td>35</td>\n",
       "      <td>8</td>\n",
       "      <td>45</td>\n",
       "      <td>4</td>\n",
       "      <td>1.0</td>\n",
       "    </tr>\n",
       "  </tbody>\n",
       "</table>\n",
       "</div>"
      ],
      "text/plain": [
       "   Age  Experience  Income  Family  CCAvg\n",
       "0   25           1      49       4    1.6\n",
       "1   45          19      34       3    1.5\n",
       "2   39          15      11       1    1.0\n",
       "3   35           9     100       1    2.7\n",
       "4   35           8      45       4    1.0"
      ]
     },
     "execution_count": 3,
     "metadata": {},
     "output_type": "execute_result"
    }
   ],
   "source": [
    "data = pd.read_csv('data.csv')\n",
    "data.head()"
   ]
  },
  {
   "cell_type": "code",
   "execution_count": 4,
   "metadata": {},
   "outputs": [
    {
     "data": {
      "text/plain": [
       "Age           0\n",
       "Experience    0\n",
       "Income        0\n",
       "Family        0\n",
       "CCAvg         0\n",
       "dtype: int64"
      ]
     },
     "execution_count": 4,
     "metadata": {},
     "output_type": "execute_result"
    }
   ],
   "source": [
    "data.isnull().sum()"
   ]
  },
  {
   "cell_type": "code",
   "execution_count": 5,
   "metadata": {},
   "outputs": [
    {
     "data": {
      "text/plain": [
       "<bound method DataFrame.info of       Age  Experience  Income  Family  CCAvg\n",
       "0      25           1      49       4    1.6\n",
       "1      45          19      34       3    1.5\n",
       "2      39          15      11       1    1.0\n",
       "3      35           9     100       1    2.7\n",
       "4      35           8      45       4    1.0\n",
       "...   ...         ...     ...     ...    ...\n",
       "2495   46          22      70       4    1.9\n",
       "2496   63          37      32       3    0.7\n",
       "2497   33           9      14       3    0.9\n",
       "2498   38          14     111       2    6.1\n",
       "2499   53          27      38       4    2.8\n",
       "\n",
       "[2500 rows x 5 columns]>"
      ]
     },
     "execution_count": 5,
     "metadata": {},
     "output_type": "execute_result"
    }
   ],
   "source": [
    "data.info"
   ]
  },
  {
   "cell_type": "code",
   "execution_count": 6,
   "metadata": {},
   "outputs": [
    {
     "data": {
      "text/html": [
       "<div>\n",
       "<style scoped>\n",
       "    .dataframe tbody tr th:only-of-type {\n",
       "        vertical-align: middle;\n",
       "    }\n",
       "\n",
       "    .dataframe tbody tr th {\n",
       "        vertical-align: top;\n",
       "    }\n",
       "\n",
       "    .dataframe thead th {\n",
       "        text-align: right;\n",
       "    }\n",
       "</style>\n",
       "<table border=\"1\" class=\"dataframe\">\n",
       "  <thead>\n",
       "    <tr style=\"text-align: right;\">\n",
       "      <th></th>\n",
       "      <th>Age</th>\n",
       "      <th>Experience</th>\n",
       "      <th>Income</th>\n",
       "      <th>Family</th>\n",
       "      <th>CCAvg</th>\n",
       "    </tr>\n",
       "  </thead>\n",
       "  <tbody>\n",
       "    <tr>\n",
       "      <th>count</th>\n",
       "      <td>2500.000000</td>\n",
       "      <td>2500.000000</td>\n",
       "      <td>2500.0000</td>\n",
       "      <td>2500.00000</td>\n",
       "      <td>2500.000000</td>\n",
       "    </tr>\n",
       "    <tr>\n",
       "      <th>mean</th>\n",
       "      <td>45.346000</td>\n",
       "      <td>20.120800</td>\n",
       "      <td>74.4472</td>\n",
       "      <td>2.40800</td>\n",
       "      <td>1.951284</td>\n",
       "    </tr>\n",
       "    <tr>\n",
       "      <th>std</th>\n",
       "      <td>11.519521</td>\n",
       "      <td>11.523824</td>\n",
       "      <td>46.6724</td>\n",
       "      <td>1.15986</td>\n",
       "      <td>1.795449</td>\n",
       "    </tr>\n",
       "    <tr>\n",
       "      <th>min</th>\n",
       "      <td>23.000000</td>\n",
       "      <td>-2.000000</td>\n",
       "      <td>8.0000</td>\n",
       "      <td>1.00000</td>\n",
       "      <td>0.000000</td>\n",
       "    </tr>\n",
       "    <tr>\n",
       "      <th>25%</th>\n",
       "      <td>35.000000</td>\n",
       "      <td>10.000000</td>\n",
       "      <td>39.0000</td>\n",
       "      <td>1.00000</td>\n",
       "      <td>0.700000</td>\n",
       "    </tr>\n",
       "    <tr>\n",
       "      <th>50%</th>\n",
       "      <td>45.000000</td>\n",
       "      <td>20.000000</td>\n",
       "      <td>64.0000</td>\n",
       "      <td>2.00000</td>\n",
       "      <td>1.500000</td>\n",
       "    </tr>\n",
       "    <tr>\n",
       "      <th>75%</th>\n",
       "      <td>55.000000</td>\n",
       "      <td>30.000000</td>\n",
       "      <td>99.2500</td>\n",
       "      <td>4.00000</td>\n",
       "      <td>2.500000</td>\n",
       "    </tr>\n",
       "    <tr>\n",
       "      <th>max</th>\n",
       "      <td>67.000000</td>\n",
       "      <td>42.000000</td>\n",
       "      <td>205.0000</td>\n",
       "      <td>4.00000</td>\n",
       "      <td>10.000000</td>\n",
       "    </tr>\n",
       "  </tbody>\n",
       "</table>\n",
       "</div>"
      ],
      "text/plain": [
       "               Age   Experience     Income      Family        CCAvg\n",
       "count  2500.000000  2500.000000  2500.0000  2500.00000  2500.000000\n",
       "mean     45.346000    20.120800    74.4472     2.40800     1.951284\n",
       "std      11.519521    11.523824    46.6724     1.15986     1.795449\n",
       "min      23.000000    -2.000000     8.0000     1.00000     0.000000\n",
       "25%      35.000000    10.000000    39.0000     1.00000     0.700000\n",
       "50%      45.000000    20.000000    64.0000     2.00000     1.500000\n",
       "75%      55.000000    30.000000    99.2500     4.00000     2.500000\n",
       "max      67.000000    42.000000   205.0000     4.00000    10.000000"
      ]
     },
     "execution_count": 6,
     "metadata": {},
     "output_type": "execute_result"
    }
   ],
   "source": [
    "data.describe()"
   ]
  },
  {
   "cell_type": "code",
   "execution_count": 7,
   "metadata": {},
   "outputs": [],
   "source": [
    "y = data['Income']\n",
    "X = data.drop(['Income'], axis = 1)\n",
    "x_train, x_test, y_train, y_test = train_test_split(X, y, train_size = 0.7, random_state = 1000)"
   ]
  },
  {
   "cell_type": "markdown",
   "metadata": {},
   "source": [
    "## Linear Regression"
   ]
  },
  {
   "cell_type": "code",
   "execution_count": 8,
   "metadata": {},
   "outputs": [],
   "source": [
    "lr = LinearRegression()\n",
    "results1 = lr.fit(x_train, y_train)"
   ]
  },
  {
   "cell_type": "code",
   "execution_count": 9,
   "metadata": {},
   "outputs": [
    {
     "data": {
      "text/plain": [
       "array([-3.07793956,  2.89401562, -3.37220023, 16.09065086])"
      ]
     },
     "execution_count": 9,
     "metadata": {},
     "output_type": "execute_result"
    }
   ],
   "source": [
    "lr.coef_"
   ]
  },
  {
   "cell_type": "markdown",
   "metadata": {},
   "source": [
    "## Ridge Regression"
   ]
  },
  {
   "cell_type": "code",
   "execution_count": 10,
   "metadata": {},
   "outputs": [
    {
     "data": {
      "text/plain": [
       "Ridge(alpha=0)"
      ]
     },
     "execution_count": 10,
     "metadata": {},
     "output_type": "execute_result"
    }
   ],
   "source": [
    "ridge = Ridge(alpha = 0) # alpha = Lambda\n",
    "ridge.fit(x_train, y_train)"
   ]
  },
  {
   "cell_type": "code",
   "execution_count": 11,
   "metadata": {},
   "outputs": [
    {
     "data": {
      "text/plain": [
       "array([-3.07793956,  2.89401562, -3.37220023, 16.09065086])"
      ]
     },
     "execution_count": 11,
     "metadata": {},
     "output_type": "execute_result"
    }
   ],
   "source": [
    "ridge.coef_"
   ]
  },
  {
   "cell_type": "code",
   "execution_count": 12,
   "metadata": {},
   "outputs": [
    {
     "data": {
      "text/html": [
       "<div>\n",
       "<style scoped>\n",
       "    .dataframe tbody tr th:only-of-type {\n",
       "        vertical-align: middle;\n",
       "    }\n",
       "\n",
       "    .dataframe tbody tr th {\n",
       "        vertical-align: top;\n",
       "    }\n",
       "\n",
       "    .dataframe thead th {\n",
       "        text-align: right;\n",
       "    }\n",
       "</style>\n",
       "<table border=\"1\" class=\"dataframe\">\n",
       "  <thead>\n",
       "    <tr style=\"text-align: right;\">\n",
       "      <th></th>\n",
       "      <th>0.001</th>\n",
       "      <th>0.010</th>\n",
       "      <th>0.100</th>\n",
       "      <th>1.000</th>\n",
       "      <th>10.000</th>\n",
       "      <th>100.000</th>\n",
       "      <th>1000.000</th>\n",
       "    </tr>\n",
       "  </thead>\n",
       "  <tbody>\n",
       "    <tr>\n",
       "      <th>0</th>\n",
       "      <td>132.296084</td>\n",
       "      <td>132.295649</td>\n",
       "      <td>132.291303</td>\n",
       "      <td>132.247877</td>\n",
       "      <td>131.817002</td>\n",
       "      <td>127.823048</td>\n",
       "      <td>105.704966</td>\n",
       "    </tr>\n",
       "    <tr>\n",
       "      <th>1</th>\n",
       "      <td>-3.077937</td>\n",
       "      <td>-3.077919</td>\n",
       "      <td>-3.077732</td>\n",
       "      <td>-3.075864</td>\n",
       "      <td>-3.057321</td>\n",
       "      <td>-2.884607</td>\n",
       "      <td>-1.883048</td>\n",
       "    </tr>\n",
       "    <tr>\n",
       "      <th>2</th>\n",
       "      <td>2.894014</td>\n",
       "      <td>2.893995</td>\n",
       "      <td>2.893806</td>\n",
       "      <td>2.891920</td>\n",
       "      <td>2.873198</td>\n",
       "      <td>2.698718</td>\n",
       "      <td>1.681685</td>\n",
       "    </tr>\n",
       "    <tr>\n",
       "      <th>3</th>\n",
       "      <td>-3.372199</td>\n",
       "      <td>-3.372192</td>\n",
       "      <td>-3.372122</td>\n",
       "      <td>-3.371422</td>\n",
       "      <td>-3.364435</td>\n",
       "      <td>-3.295822</td>\n",
       "      <td>-2.731156</td>\n",
       "    </tr>\n",
       "    <tr>\n",
       "      <th>4</th>\n",
       "      <td>16.090648</td>\n",
       "      <td>16.090622</td>\n",
       "      <td>16.090363</td>\n",
       "      <td>16.087768</td>\n",
       "      <td>16.061871</td>\n",
       "      <td>15.807207</td>\n",
       "      <td>13.634454</td>\n",
       "    </tr>\n",
       "  </tbody>\n",
       "</table>\n",
       "</div>"
      ],
      "text/plain": [
       "     0.001       0.010       0.100       1.000       10.000      100.000   \\\n",
       "0  132.296084  132.295649  132.291303  132.247877  131.817002  127.823048   \n",
       "1   -3.077937   -3.077919   -3.077732   -3.075864   -3.057321   -2.884607   \n",
       "2    2.894014    2.893995    2.893806    2.891920    2.873198    2.698718   \n",
       "3   -3.372199   -3.372192   -3.372122   -3.371422   -3.364435   -3.295822   \n",
       "4   16.090648   16.090622   16.090363   16.087768   16.061871   15.807207   \n",
       "\n",
       "     1000.000  \n",
       "0  105.704966  \n",
       "1   -1.883048  \n",
       "2    1.681685  \n",
       "3   -2.731156  \n",
       "4   13.634454  "
      ]
     },
     "execution_count": 12,
     "metadata": {},
     "output_type": "execute_result"
    }
   ],
   "source": [
    "alpha = np.logspace(-3,3,7)\n",
    "\n",
    "df = []\n",
    "acc_table = []\n",
    "\n",
    "for i, a in enumerate(alpha):\n",
    "\tridge = Ridge(alpha=a).fit(x_train, y_train)\n",
    "\tdf.append(pd.Series(np.hstack([ridge.intercept_, ridge.coef_])))\n",
    "\tpred_y = ridge.predict(x_test)\n",
    "\n",
    "df_ridge = pd.DataFrame(df,index = alpha).T\n",
    "df_ridge"
   ]
  },
  {
   "cell_type": "markdown",
   "metadata": {},
   "source": [
    "## Lasso "
   ]
  },
  {
   "cell_type": "code",
   "execution_count": 13,
   "metadata": {},
   "outputs": [
    {
     "name": "stderr",
     "output_type": "stream",
     "text": [
      "<ipython-input-13-88ea84957e86>:2: UserWarning: With alpha=0, this algorithm does not converge well. You are advised to use the LinearRegression estimator\n",
      "  lasso.fit(x_train, y_train)\n",
      "/Users/kimmh/opt/anaconda3/lib/python3.8/site-packages/sklearn/linear_model/_coordinate_descent.py:529: UserWarning: Coordinate descent with no regularization may lead to unexpected results and is discouraged.\n",
      "  model = cd_fast.enet_coordinate_descent(\n",
      "/Users/kimmh/opt/anaconda3/lib/python3.8/site-packages/sklearn/linear_model/_coordinate_descent.py:529: ConvergenceWarning: Objective did not converge. You might want to increase the number of iterations. Duality gap: 1105890.1320882088, tolerance: 373.84840920000016\n",
      "  model = cd_fast.enet_coordinate_descent(\n"
     ]
    },
    {
     "data": {
      "text/plain": [
       "Lasso(alpha=0)"
      ]
     },
     "execution_count": 13,
     "metadata": {},
     "output_type": "execute_result"
    }
   ],
   "source": [
    "lasso = Lasso(alpha = 0 ) \n",
    "lasso.fit(x_train, y_train)"
   ]
  },
  {
   "cell_type": "code",
   "execution_count": 14,
   "metadata": {},
   "outputs": [
    {
     "data": {
      "text/plain": [
       "array([-3.07790231,  2.8939786 , -3.37220244, 16.09065156])"
      ]
     },
     "execution_count": 14,
     "metadata": {},
     "output_type": "execute_result"
    }
   ],
   "source": [
    "lasso.coef_"
   ]
  },
  {
   "cell_type": "code",
   "execution_count": 15,
   "metadata": {},
   "outputs": [
    {
     "name": "stderr",
     "output_type": "stream",
     "text": [
      "/Users/kimmh/opt/anaconda3/lib/python3.8/site-packages/sklearn/linear_model/_coordinate_descent.py:529: ConvergenceWarning: Objective did not converge. You might want to increase the number of iterations. Duality gap: 3094.379385489272, tolerance: 373.84840920000016\n",
      "  model = cd_fast.enet_coordinate_descent(\n"
     ]
    },
    {
     "data": {
      "text/html": [
       "<div>\n",
       "<style scoped>\n",
       "    .dataframe tbody tr th:only-of-type {\n",
       "        vertical-align: middle;\n",
       "    }\n",
       "\n",
       "    .dataframe tbody tr th {\n",
       "        vertical-align: top;\n",
       "    }\n",
       "\n",
       "    .dataframe thead th {\n",
       "        text-align: right;\n",
       "    }\n",
       "</style>\n",
       "<table border=\"1\" class=\"dataframe\">\n",
       "  <thead>\n",
       "    <tr style=\"text-align: right;\">\n",
       "      <th></th>\n",
       "      <th>0.001</th>\n",
       "      <th>0.010</th>\n",
       "      <th>0.100</th>\n",
       "      <th>1.000</th>\n",
       "      <th>10.000</th>\n",
       "      <th>100.000</th>\n",
       "      <th>1000.000</th>\n",
       "    </tr>\n",
       "  </thead>\n",
       "  <tbody>\n",
       "    <tr>\n",
       "      <th>0</th>\n",
       "      <td>132.261976</td>\n",
       "      <td>131.960877</td>\n",
       "      <td>128.945930</td>\n",
       "      <td>98.937749</td>\n",
       "      <td>54.569493</td>\n",
       "      <td>73.876</td>\n",
       "      <td>73.876</td>\n",
       "    </tr>\n",
       "    <tr>\n",
       "      <th>1</th>\n",
       "      <td>-3.076625</td>\n",
       "      <td>-3.065044</td>\n",
       "      <td>-2.949074</td>\n",
       "      <td>-1.794975</td>\n",
       "      <td>-0.134206</td>\n",
       "      <td>-0.000</td>\n",
       "      <td>-0.000</td>\n",
       "    </tr>\n",
       "    <tr>\n",
       "      <th>2</th>\n",
       "      <td>2.892703</td>\n",
       "      <td>2.881139</td>\n",
       "      <td>2.765340</td>\n",
       "      <td>1.612913</td>\n",
       "      <td>-0.000000</td>\n",
       "      <td>-0.000</td>\n",
       "      <td>-0.000</td>\n",
       "    </tr>\n",
       "    <tr>\n",
       "      <th>3</th>\n",
       "      <td>-3.371595</td>\n",
       "      <td>-3.366136</td>\n",
       "      <td>-3.311548</td>\n",
       "      <td>-2.765340</td>\n",
       "      <td>-0.000000</td>\n",
       "      <td>-0.000</td>\n",
       "      <td>-0.000</td>\n",
       "    </tr>\n",
       "    <tr>\n",
       "      <th>4</th>\n",
       "      <td>16.090400</td>\n",
       "      <td>16.088142</td>\n",
       "      <td>16.065558</td>\n",
       "      <td>15.839618</td>\n",
       "      <td>13.184919</td>\n",
       "      <td>0.000</td>\n",
       "      <td>0.000</td>\n",
       "    </tr>\n",
       "  </tbody>\n",
       "</table>\n",
       "</div>"
      ],
      "text/plain": [
       "     0.001       0.010       0.100      1.000      10.000    100.000   \\\n",
       "0  132.261976  131.960877  128.945930  98.937749  54.569493    73.876   \n",
       "1   -3.076625   -3.065044   -2.949074  -1.794975  -0.134206    -0.000   \n",
       "2    2.892703    2.881139    2.765340   1.612913  -0.000000    -0.000   \n",
       "3   -3.371595   -3.366136   -3.311548  -2.765340  -0.000000    -0.000   \n",
       "4   16.090400   16.088142   16.065558  15.839618  13.184919     0.000   \n",
       "\n",
       "   1000.000  \n",
       "0    73.876  \n",
       "1    -0.000  \n",
       "2    -0.000  \n",
       "3    -0.000  \n",
       "4     0.000  "
      ]
     },
     "execution_count": 15,
     "metadata": {},
     "output_type": "execute_result"
    }
   ],
   "source": [
    "df = []\n",
    "acc_table = []\n",
    "\n",
    "for i, a in enumerate(alpha):\n",
    "\tlasso = Lasso(alpha=a).fit(x_train, y_train)\n",
    "\tdf.append(pd.Series(np.hstack([lasso.intercept_, lasso.coef_])))\n",
    "\tpred_y = lasso.predict(x_test)\n",
    "    \n",
    "df_lasso = pd.DataFrame(df,index = alpha).T\n",
    "df_lasso"
   ]
  },
  {
   "cell_type": "code",
   "execution_count": 16,
   "metadata": {},
   "outputs": [
    {
     "data": {
      "image/png": "[encoded data removed]",
      "text/plain": [
       "<Figure size 936x360 with 2 Axes>"
      ]
     },
     "metadata": {
      "needs_background": "light"
     },
     "output_type": "display_data"
    }
   ],
   "source": [
    "plt.figure(figsize=(13,5))\n",
    "\n",
    "ax1 = plt.subplot(121)\n",
    "plt.semilogx(df_ridge.T)\n",
    "plt.xticks(alpha)\n",
    "plt.title(\"Ridge\")\n",
    "\n",
    "ax2 = plt.subplot(122)\n",
    "plt.semilogx(df_lasso.T)\n",
    "plt.xticks(alpha)\n",
    "plt.title(\"Lasso\")\n",
    "\n",
    "plt.show()"
   ]
  }
 ],
 "metadata": {
  "kernelspec": {
   "display_name": "Python 3",
   "language": "python",
   "name": "python3"
  },
  "language_info": {
   "codemirror_mode": {
    "name": "ipython",
    "version": 3
   },
   "file_extension": ".py",
   "mimetype": "text/x-python",
   "name": "python",
   "nbconvert_exporter": "python",
   "pygments_lexer": "ipython3",
   "version": "3.8.5"
  }
 },
 "nbformat": 4,
 "nbformat_minor": 4
}
