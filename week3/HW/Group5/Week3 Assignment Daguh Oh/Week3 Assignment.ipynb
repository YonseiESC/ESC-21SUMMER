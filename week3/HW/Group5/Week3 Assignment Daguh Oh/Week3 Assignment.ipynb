{
    "cells": [
        {
            "cell_type": "markdown",
            "source": [
                "### Week3 Dagun Oh HW"
            ],
            "metadata": {}
        },
        {
            "cell_type": "code",
            "execution_count": 2,
            "source": [
                "import numpy as np\n",
                "import pandas as pd\n",
                "from sklearn.model_selection import train_test_split\n",
                "from sklearn.linear_model import LinearRegression, Ridge, Lasso\n",
                "import matplotlib.pyplot as plt\n",
                "from sklearn.metrics import mean_squared_error"
            ],
            "outputs": [],
            "metadata": {}
        },
        {
            "cell_type": "code",
            "execution_count": 3,
            "source": [
                "data = pd.read_csv('data.csv')"
            ],
            "outputs": [],
            "metadata": {}
        },
        {
            "cell_type": "code",
            "execution_count": 4,
            "source": [
                "data.head()"
            ],
            "outputs": [
                {
                    "output_type": "execute_result",
                    "data": {
                        "text/plain": [
                            "   Age  Experience  Income  Family  CCAvg\n",
                            "0   25           1      49       4    1.6\n",
                            "1   45          19      34       3    1.5\n",
                            "2   39          15      11       1    1.0\n",
                            "3   35           9     100       1    2.7\n",
                            "4   35           8      45       4    1.0"
                        ],
                        "text/html": [
                            "<div>\n",
                            "<style scoped>\n",
                            "    .dataframe tbody tr th:only-of-type {\n",
                            "        vertical-align: middle;\n",
                            "    }\n",
                            "\n",
                            "    .dataframe tbody tr th {\n",
                            "        vertical-align: top;\n",
                            "    }\n",
                            "\n",
                            "    .dataframe thead th {\n",
                            "        text-align: right;\n",
                            "    }\n",
                            "</style>\n",
                            "<table border=\"1\" class=\"dataframe\">\n",
                            "  <thead>\n",
                            "    <tr style=\"text-align: right;\">\n",
                            "      <th></th>\n",
                            "      <th>Age</th>\n",
                            "      <th>Experience</th>\n",
                            "      <th>Income</th>\n",
                            "      <th>Family</th>\n",
                            "      <th>CCAvg</th>\n",
                            "    </tr>\n",
                            "  </thead>\n",
                            "  <tbody>\n",
                            "    <tr>\n",
                            "      <th>0</th>\n",
                            "      <td>25</td>\n",
                            "      <td>1</td>\n",
                            "      <td>49</td>\n",
                            "      <td>4</td>\n",
                            "      <td>1.6</td>\n",
                            "    </tr>\n",
                            "    <tr>\n",
                            "      <th>1</th>\n",
                            "      <td>45</td>\n",
                            "      <td>19</td>\n",
                            "      <td>34</td>\n",
                            "      <td>3</td>\n",
                            "      <td>1.5</td>\n",
                            "    </tr>\n",
                            "    <tr>\n",
                            "      <th>2</th>\n",
                            "      <td>39</td>\n",
                            "      <td>15</td>\n",
                            "      <td>11</td>\n",
                            "      <td>1</td>\n",
                            "      <td>1.0</td>\n",
                            "    </tr>\n",
                            "    <tr>\n",
                            "      <th>3</th>\n",
                            "      <td>35</td>\n",
                            "      <td>9</td>\n",
                            "      <td>100</td>\n",
                            "      <td>1</td>\n",
                            "      <td>2.7</td>\n",
                            "    </tr>\n",
                            "    <tr>\n",
                            "      <th>4</th>\n",
                            "      <td>35</td>\n",
                            "      <td>8</td>\n",
                            "      <td>45</td>\n",
                            "      <td>4</td>\n",
                            "      <td>1.0</td>\n",
                            "    </tr>\n",
                            "  </tbody>\n",
                            "</table>\n",
                            "</div>"
                        ]
                    },
                    "metadata": {},
                    "execution_count": 4
                }
            ],
            "metadata": {}
        },
        {
            "cell_type": "code",
            "execution_count": 5,
            "source": [
                "data.isnull().sum()"
            ],
            "outputs": [
                {
                    "output_type": "execute_result",
                    "data": {
                        "text/plain": [
                            "Age           0\n",
                            "Experience    0\n",
                            "Income        0\n",
                            "Family        0\n",
                            "CCAvg         0\n",
                            "dtype: int64"
                        ]
                    },
                    "metadata": {},
                    "execution_count": 5
                }
            ],
            "metadata": {}
        },
        {
            "cell_type": "code",
            "execution_count": 6,
            "source": [
                "data.info()"
            ],
            "outputs": [
                {
                    "output_type": "stream",
                    "name": "stdout",
                    "text": [
                        "<class 'pandas.core.frame.DataFrame'>\n",
                        "RangeIndex: 2500 entries, 0 to 2499\n",
                        "Data columns (total 5 columns):\n",
                        " #   Column      Non-Null Count  Dtype  \n",
                        "---  ------      --------------  -----  \n",
                        " 0   Age         2500 non-null   int64  \n",
                        " 1   Experience  2500 non-null   int64  \n",
                        " 2   Income      2500 non-null   int64  \n",
                        " 3   Family      2500 non-null   int64  \n",
                        " 4   CCAvg       2500 non-null   float64\n",
                        "dtypes: float64(1), int64(4)\n",
                        "memory usage: 97.8 KB\n"
                    ]
                }
            ],
            "metadata": {}
        },
        {
            "cell_type": "code",
            "execution_count": 7,
            "source": [
                "y = data['Income']\n",
                "X = data.drop(['Income'], axis = 1)\n",
                "x_train, x_test, y_train, y_test = train_test_split(X, y, train_size = 0.7, random_state = 1000)"
            ],
            "outputs": [],
            "metadata": {}
        },
        {
            "cell_type": "markdown",
            "source": [
                "## Linear Regression"
            ],
            "metadata": {}
        },
        {
            "cell_type": "code",
            "execution_count": 8,
            "source": [
                "reg = LinearRegression()\n",
                "results1 = reg.fit(x_train, y_train)"
            ],
            "outputs": [],
            "metadata": {}
        },
        {
            "cell_type": "code",
            "execution_count": 11,
            "source": [
                "results1.coef_"
            ],
            "outputs": [
                {
                    "output_type": "execute_result",
                    "data": {
                        "text/plain": [
                            "array([-3.07793956,  2.89401562, -3.37220023, 16.09065086])"
                        ]
                    },
                    "metadata": {},
                    "execution_count": 11
                }
            ],
            "metadata": {}
        },
        {
            "cell_type": "markdown",
            "source": [
                "### Ridge Regression"
            ],
            "metadata": {}
        },
        {
            "cell_type": "code",
            "execution_count": 12,
            "source": [
                "rreg = Ridge(alpha = 0) # alpha = Lambda\n",
                "rreg.fit(x_train, y_train)"
            ],
            "outputs": [
                {
                    "output_type": "execute_result",
                    "data": {
                        "text/plain": [
                            "Ridge(alpha=0)"
                        ]
                    },
                    "metadata": {},
                    "execution_count": 12
                }
            ],
            "metadata": {}
        },
        {
            "cell_type": "code",
            "execution_count": 13,
            "source": [
                "rreg.coef_"
            ],
            "outputs": [
                {
                    "output_type": "execute_result",
                    "data": {
                        "text/plain": [
                            "array([-3.07793956,  2.89401562, -3.37220023, 16.09065086])"
                        ]
                    },
                    "metadata": {},
                    "execution_count": 13
                }
            ],
            "metadata": {}
        },
        {
            "cell_type": "code",
            "execution_count": 14,
            "source": [
                "alpha = np.logspace(-3,3,7)\n",
                "alpha"
            ],
            "outputs": [
                {
                    "output_type": "execute_result",
                    "data": {
                        "text/plain": [
                            "array([1.e-03, 1.e-02, 1.e-01, 1.e+00, 1.e+01, 1.e+02, 1.e+03])"
                        ]
                    },
                    "metadata": {},
                    "execution_count": 14
                }
            ],
            "metadata": {}
        },
        {
            "cell_type": "code",
            "execution_count": 15,
            "source": [
                "#alpha 높을수록 계수를 0에 가깝게 만듦. \n",
                "\n",
                "df = []\n",
                "acc_table = []\n",
                "\n",
                "for i, a in enumerate(alpha):\n",
                "\trreg = Ridge(alpha=a).fit(x_train, y_train)\n",
                "\tdf.append(pd.Series(np.hstack([rreg.intercept_, rreg.coef_])))\n",
                "\tpred_y = rreg.predict(x_test)\n",
                "\n",
                "df_ridge = pd.DataFrame(df,index = alpha).T\n",
                "df_ridge"
            ],
            "outputs": [
                {
                    "output_type": "execute_result",
                    "data": {
                        "text/plain": [
                            "     0.001       0.010       0.100       1.000       10.000      100.000   \\\n",
                            "0  132.296084  132.295649  132.291303  132.247877  131.817002  127.823048   \n",
                            "1   -3.077937   -3.077919   -3.077732   -3.075864   -3.057321   -2.884607   \n",
                            "2    2.894014    2.893995    2.893806    2.891920    2.873198    2.698718   \n",
                            "3   -3.372199   -3.372192   -3.372122   -3.371422   -3.364435   -3.295822   \n",
                            "4   16.090648   16.090622   16.090363   16.087768   16.061871   15.807207   \n",
                            "\n",
                            "     1000.000  \n",
                            "0  105.704966  \n",
                            "1   -1.883048  \n",
                            "2    1.681685  \n",
                            "3   -2.731156  \n",
                            "4   13.634454  "
                        ],
                        "text/html": [
                            "<div>\n",
                            "<style scoped>\n",
                            "    .dataframe tbody tr th:only-of-type {\n",
                            "        vertical-align: middle;\n",
                            "    }\n",
                            "\n",
                            "    .dataframe tbody tr th {\n",
                            "        vertical-align: top;\n",
                            "    }\n",
                            "\n",
                            "    .dataframe thead th {\n",
                            "        text-align: right;\n",
                            "    }\n",
                            "</style>\n",
                            "<table border=\"1\" class=\"dataframe\">\n",
                            "  <thead>\n",
                            "    <tr style=\"text-align: right;\">\n",
                            "      <th></th>\n",
                            "      <th>0.001</th>\n",
                            "      <th>0.010</th>\n",
                            "      <th>0.100</th>\n",
                            "      <th>1.000</th>\n",
                            "      <th>10.000</th>\n",
                            "      <th>100.000</th>\n",
                            "      <th>1000.000</th>\n",
                            "    </tr>\n",
                            "  </thead>\n",
                            "  <tbody>\n",
                            "    <tr>\n",
                            "      <th>0</th>\n",
                            "      <td>132.296084</td>\n",
                            "      <td>132.295649</td>\n",
                            "      <td>132.291303</td>\n",
                            "      <td>132.247877</td>\n",
                            "      <td>131.817002</td>\n",
                            "      <td>127.823048</td>\n",
                            "      <td>105.704966</td>\n",
                            "    </tr>\n",
                            "    <tr>\n",
                            "      <th>1</th>\n",
                            "      <td>-3.077937</td>\n",
                            "      <td>-3.077919</td>\n",
                            "      <td>-3.077732</td>\n",
                            "      <td>-3.075864</td>\n",
                            "      <td>-3.057321</td>\n",
                            "      <td>-2.884607</td>\n",
                            "      <td>-1.883048</td>\n",
                            "    </tr>\n",
                            "    <tr>\n",
                            "      <th>2</th>\n",
                            "      <td>2.894014</td>\n",
                            "      <td>2.893995</td>\n",
                            "      <td>2.893806</td>\n",
                            "      <td>2.891920</td>\n",
                            "      <td>2.873198</td>\n",
                            "      <td>2.698718</td>\n",
                            "      <td>1.681685</td>\n",
                            "    </tr>\n",
                            "    <tr>\n",
                            "      <th>3</th>\n",
                            "      <td>-3.372199</td>\n",
                            "      <td>-3.372192</td>\n",
                            "      <td>-3.372122</td>\n",
                            "      <td>-3.371422</td>\n",
                            "      <td>-3.364435</td>\n",
                            "      <td>-3.295822</td>\n",
                            "      <td>-2.731156</td>\n",
                            "    </tr>\n",
                            "    <tr>\n",
                            "      <th>4</th>\n",
                            "      <td>16.090648</td>\n",
                            "      <td>16.090622</td>\n",
                            "      <td>16.090363</td>\n",
                            "      <td>16.087768</td>\n",
                            "      <td>16.061871</td>\n",
                            "      <td>15.807207</td>\n",
                            "      <td>13.634454</td>\n",
                            "    </tr>\n",
                            "  </tbody>\n",
                            "</table>\n",
                            "</div>"
                        ]
                    },
                    "metadata": {},
                    "execution_count": 15
                }
            ],
            "metadata": {}
        },
        {
            "cell_type": "markdown",
            "source": [
                "### Lasso Regression"
            ],
            "metadata": {}
        },
        {
            "cell_type": "code",
            "execution_count": 16,
            "source": [
                "lreg = Lasso(alpha = 0 ) # alpha = Lambda\n",
                "lreg.fit(x_train, y_train)"
            ],
            "outputs": [
                {
                    "output_type": "stream",
                    "name": "stderr",
                    "text": [
                        "<ipython-input-16-b25edddec866>:2: UserWarning: With alpha=0, this algorithm does not converge well. You are advised to use the LinearRegression estimator\n",
                        "  lreg.fit(x_train, y_train)\n",
                        "/Users/dagunoh/opt/anaconda3/lib/python3.8/site-packages/sklearn/linear_model/_coordinate_descent.py:530: UserWarning: Coordinate descent with no regularization may lead to unexpected results and is discouraged.\n",
                        "  model = cd_fast.enet_coordinate_descent(\n",
                        "/Users/dagunoh/opt/anaconda3/lib/python3.8/site-packages/sklearn/linear_model/_coordinate_descent.py:530: ConvergenceWarning: Objective did not converge. You might want to increase the number of iterations. Duality gap: 1105890.1320882076, tolerance: 373.8484091999999\n",
                        "  model = cd_fast.enet_coordinate_descent(\n"
                    ]
                },
                {
                    "output_type": "execute_result",
                    "data": {
                        "text/plain": [
                            "Lasso(alpha=0)"
                        ]
                    },
                    "metadata": {},
                    "execution_count": 16
                }
            ],
            "metadata": {}
        },
        {
            "cell_type": "code",
            "execution_count": 17,
            "source": [
                "lreg.coef_\n"
            ],
            "outputs": [
                {
                    "output_type": "execute_result",
                    "data": {
                        "text/plain": [
                            "array([-3.07790231,  2.8939786 , -3.37220244, 16.09065156])"
                        ]
                    },
                    "metadata": {},
                    "execution_count": 17
                }
            ],
            "metadata": {}
        },
        {
            "cell_type": "code",
            "execution_count": 18,
            "source": [
                "#Ridge와 달리 0 이 존재함. \n",
                "df = []\n",
                "acc_table = []\n",
                "\n",
                "for i, a in enumerate(alpha):\n",
                "\tlreg = Lasso(alpha=a).fit(x_train, y_train)\n",
                "\tdf.append(pd.Series(np.hstack([lreg.intercept_, lreg.coef_])))\n",
                "\tpred_y = lreg.predict(x_test)\n",
                "    \n",
                "df_lasso = pd.DataFrame(df,index = alpha).T\n",
                "df_lasso"
            ],
            "outputs": [
                {
                    "output_type": "stream",
                    "name": "stderr",
                    "text": [
                        "/Users/dagunoh/opt/anaconda3/lib/python3.8/site-packages/sklearn/linear_model/_coordinate_descent.py:530: ConvergenceWarning: Objective did not converge. You might want to increase the number of iterations. Duality gap: 3094.3793768864125, tolerance: 373.8484091999999\n",
                        "  model = cd_fast.enet_coordinate_descent(\n"
                    ]
                },
                {
                    "output_type": "execute_result",
                    "data": {
                        "text/plain": [
                            "     0.001       0.010       0.100      1.000      10.000    100.000   \\\n",
                            "0  132.261976  131.960877  128.945930  98.937749  54.569493    73.876   \n",
                            "1   -3.076625   -3.065044   -2.949074  -1.794975  -0.134206    -0.000   \n",
                            "2    2.892703    2.881139    2.765340   1.612913  -0.000000    -0.000   \n",
                            "3   -3.371595   -3.366136   -3.311548  -2.765340  -0.000000    -0.000   \n",
                            "4   16.090400   16.088142   16.065558  15.839618  13.184919     0.000   \n",
                            "\n",
                            "   1000.000  \n",
                            "0    73.876  \n",
                            "1    -0.000  \n",
                            "2    -0.000  \n",
                            "3    -0.000  \n",
                            "4     0.000  "
                        ],
                        "text/html": [
                            "<div>\n",
                            "<style scoped>\n",
                            "    .dataframe tbody tr th:only-of-type {\n",
                            "        vertical-align: middle;\n",
                            "    }\n",
                            "\n",
                            "    .dataframe tbody tr th {\n",
                            "        vertical-align: top;\n",
                            "    }\n",
                            "\n",
                            "    .dataframe thead th {\n",
                            "        text-align: right;\n",
                            "    }\n",
                            "</style>\n",
                            "<table border=\"1\" class=\"dataframe\">\n",
                            "  <thead>\n",
                            "    <tr style=\"text-align: right;\">\n",
                            "      <th></th>\n",
                            "      <th>0.001</th>\n",
                            "      <th>0.010</th>\n",
                            "      <th>0.100</th>\n",
                            "      <th>1.000</th>\n",
                            "      <th>10.000</th>\n",
                            "      <th>100.000</th>\n",
                            "      <th>1000.000</th>\n",
                            "    </tr>\n",
                            "  </thead>\n",
                            "  <tbody>\n",
                            "    <tr>\n",
                            "      <th>0</th>\n",
                            "      <td>132.261976</td>\n",
                            "      <td>131.960877</td>\n",
                            "      <td>128.945930</td>\n",
                            "      <td>98.937749</td>\n",
                            "      <td>54.569493</td>\n",
                            "      <td>73.876</td>\n",
                            "      <td>73.876</td>\n",
                            "    </tr>\n",
                            "    <tr>\n",
                            "      <th>1</th>\n",
                            "      <td>-3.076625</td>\n",
                            "      <td>-3.065044</td>\n",
                            "      <td>-2.949074</td>\n",
                            "      <td>-1.794975</td>\n",
                            "      <td>-0.134206</td>\n",
                            "      <td>-0.000</td>\n",
                            "      <td>-0.000</td>\n",
                            "    </tr>\n",
                            "    <tr>\n",
                            "      <th>2</th>\n",
                            "      <td>2.892703</td>\n",
                            "      <td>2.881139</td>\n",
                            "      <td>2.765340</td>\n",
                            "      <td>1.612913</td>\n",
                            "      <td>-0.000000</td>\n",
                            "      <td>-0.000</td>\n",
                            "      <td>-0.000</td>\n",
                            "    </tr>\n",
                            "    <tr>\n",
                            "      <th>3</th>\n",
                            "      <td>-3.371595</td>\n",
                            "      <td>-3.366136</td>\n",
                            "      <td>-3.311548</td>\n",
                            "      <td>-2.765340</td>\n",
                            "      <td>-0.000000</td>\n",
                            "      <td>-0.000</td>\n",
                            "      <td>-0.000</td>\n",
                            "    </tr>\n",
                            "    <tr>\n",
                            "      <th>4</th>\n",
                            "      <td>16.090400</td>\n",
                            "      <td>16.088142</td>\n",
                            "      <td>16.065558</td>\n",
                            "      <td>15.839618</td>\n",
                            "      <td>13.184919</td>\n",
                            "      <td>0.000</td>\n",
                            "      <td>0.000</td>\n",
                            "    </tr>\n",
                            "  </tbody>\n",
                            "</table>\n",
                            "</div>"
                        ]
                    },
                    "metadata": {},
                    "execution_count": 18
                }
            ],
            "metadata": {}
        },
        {
            "cell_type": "code",
            "execution_count": 19,
            "source": [
                "import matplotlib.pyplot as plt\n",
                "\n",
                "ax1 = plt.subplot(121)\n",
                "plt.semilogx(df_ridge.T)\n",
                "plt.xticks(alpha)\n",
                "plt.title(\"Ridge\")\n",
                "\n",
                "ax2 = plt.subplot(122)\n",
                "plt.semilogx(df_lasso.T)\n",
                "plt.xticks(alpha)\n",
                "plt.title(\"Lasso\")\n",
                "\n",
                "plt.show()"
            ],
            "outputs": [
                {
                    "output_type": "display_data",
                    "data": {
                        "text/plain": [
                            "<Figure size 432x288 with 2 Axes>"
                        ],
                        "image/png": "[encoded data removed]"
                    },
                    "metadata": {
                        "needs_background": "light"
                    }
                }
            ],
            "metadata": {}
        },
        {
            "cell_type": "markdown",
            "source": [
                "![title](Picture.png)"
            ],
            "metadata": {}
        },
        {
            "cell_type": "markdown",
            "source": [],
            "metadata": {}
        }
    ],
    "metadata": {
        "orig_nbformat": 4,
        "language_info": {
            "name": "python",
            "version": "3.8.3",
            "mimetype": "text/x-python",
            "codemirror_mode": {
                "name": "ipython",
                "version": 3
            },
            "pygments_lexer": "ipython3",
            "nbconvert_exporter": "python",
            "file_extension": ".py"
        },
        "kernelspec": {
            "name": "python3",
            "display_name": "Python 3.8.3 64-bit (conda)"
        },
        "interpreter": {
            "hash": "f42d9e9a3332f66fc537d97cd45ec3c63ea73543cf20643c486e9a09f6fdd21d"
        }
    },
    "nbformat": 4,
    "nbformat_minor": 2
}