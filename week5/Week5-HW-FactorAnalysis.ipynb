{
 "cells": [
  {
   "cell_type": "markdown",
   "metadata": {},
   "source": [
    "# Factor Analysis on Stock data"
   ]
  },
  {
   "cell_type": "code",
   "execution_count": 1,
   "metadata": {},
   "outputs": [],
   "source": [
    "import pandas as pd\n",
    "import numpy as np\n",
    "import matplotlib.pyplot as plt"
   ]
  },
  {
   "cell_type": "code",
   "execution_count": 2,
   "metadata": {
    "scrolled": true
   },
   "outputs": [
    {
     "data": {
      "text/html": [
       "<div>\n",
       "<style scoped>\n",
       "    .dataframe tbody tr th:only-of-type {\n",
       "        vertical-align: middle;\n",
       "    }\n",
       "\n",
       "    .dataframe tbody tr th {\n",
       "        vertical-align: top;\n",
       "    }\n",
       "\n",
       "    .dataframe thead th {\n",
       "        text-align: right;\n",
       "    }\n",
       "</style>\n",
       "<table border=\"1\" class=\"dataframe\">\n",
       "  <thead>\n",
       "    <tr style=\"text-align: right;\">\n",
       "      <th></th>\n",
       "      <th>X1</th>\n",
       "      <th>X2</th>\n",
       "      <th>X3</th>\n",
       "      <th>X4</th>\n",
       "      <th>X5</th>\n",
       "    </tr>\n",
       "  </thead>\n",
       "  <tbody>\n",
       "    <tr>\n",
       "      <th>X1</th>\n",
       "      <td>1.000000</td>\n",
       "      <td>0.576924</td>\n",
       "      <td>0.508656</td>\n",
       "      <td>0.386721</td>\n",
       "      <td>0.462178</td>\n",
       "    </tr>\n",
       "    <tr>\n",
       "      <th>X2</th>\n",
       "      <td>0.576924</td>\n",
       "      <td>1.000000</td>\n",
       "      <td>0.598384</td>\n",
       "      <td>0.389519</td>\n",
       "      <td>0.321953</td>\n",
       "    </tr>\n",
       "    <tr>\n",
       "      <th>X3</th>\n",
       "      <td>0.508656</td>\n",
       "      <td>0.598384</td>\n",
       "      <td>1.000000</td>\n",
       "      <td>0.436101</td>\n",
       "      <td>0.425627</td>\n",
       "    </tr>\n",
       "    <tr>\n",
       "      <th>X4</th>\n",
       "      <td>0.386721</td>\n",
       "      <td>0.389519</td>\n",
       "      <td>0.436101</td>\n",
       "      <td>1.000000</td>\n",
       "      <td>0.523529</td>\n",
       "    </tr>\n",
       "    <tr>\n",
       "      <th>X5</th>\n",
       "      <td>0.462178</td>\n",
       "      <td>0.321953</td>\n",
       "      <td>0.425627</td>\n",
       "      <td>0.523529</td>\n",
       "      <td>1.000000</td>\n",
       "    </tr>\n",
       "  </tbody>\n",
       "</table>\n",
       "</div>"
      ],
      "text/plain": [
       "          X1        X2        X3        X4        X5\n",
       "X1  1.000000  0.576924  0.508656  0.386721  0.462178\n",
       "X2  0.576924  1.000000  0.598384  0.389519  0.321953\n",
       "X3  0.508656  0.598384  1.000000  0.436101  0.425627\n",
       "X4  0.386721  0.389519  0.436101  1.000000  0.523529\n",
       "X5  0.462178  0.321953  0.425627  0.523529  1.000000"
      ]
     },
     "execution_count": 2,
     "metadata": {},
     "output_type": "execute_result"
    }
   ],
   "source": [
    "stock = pd.read_csv('stock.dat', header=None, delim_whitespace=True)\n",
    "stock.columns = ['X1', 'X2', 'X3', 'X4', 'X5']\n",
    "stock.corr()"
   ]
  },
  {
   "cell_type": "code",
   "execution_count": 3,
   "metadata": {},
   "outputs": [],
   "source": [
    "eigenValues, eigenVectors = np.linalg.eig(stock.corr())\n",
    "idx = eigenValues.argsort()[::-1]   \n",
    "eigenValues = eigenValues[idx]\n",
    "eigenVectors = eigenVectors[:,idx]"
   ]
  },
  {
   "cell_type": "code",
   "execution_count": 4,
   "metadata": {},
   "outputs": [
    {
     "data": {
      "text/html": [
       "<div>\n",
       "<style scoped>\n",
       "    .dataframe tbody tr th:only-of-type {\n",
       "        vertical-align: middle;\n",
       "    }\n",
       "\n",
       "    .dataframe tbody tr th {\n",
       "        vertical-align: top;\n",
       "    }\n",
       "\n",
       "    .dataframe thead th {\n",
       "        text-align: right;\n",
       "    }\n",
       "</style>\n",
       "<table border=\"1\" class=\"dataframe\">\n",
       "  <thead>\n",
       "    <tr style=\"text-align: right;\">\n",
       "      <th></th>\n",
       "      <th>Factor1</th>\n",
       "      <th>Factor2</th>\n",
       "      <th>Factor3</th>\n",
       "      <th>Factor4</th>\n",
       "      <th>Factor5</th>\n",
       "    </tr>\n",
       "  </thead>\n",
       "  <tbody>\n",
       "    <tr>\n",
       "      <th>X1</th>\n",
       "      <td>0.78</td>\n",
       "      <td>0.22</td>\n",
       "      <td>0.45</td>\n",
       "      <td>-0.26</td>\n",
       "      <td>0.27</td>\n",
       "    </tr>\n",
       "    <tr>\n",
       "      <th>X2</th>\n",
       "      <td>0.77</td>\n",
       "      <td>0.46</td>\n",
       "      <td>-0.13</td>\n",
       "      <td>-0.14</td>\n",
       "      <td>-0.40</td>\n",
       "    </tr>\n",
       "    <tr>\n",
       "      <th>X3</th>\n",
       "      <td>0.79</td>\n",
       "      <td>0.23</td>\n",
       "      <td>-0.25</td>\n",
       "      <td>0.45</td>\n",
       "      <td>0.23</td>\n",
       "    </tr>\n",
       "    <tr>\n",
       "      <th>X4</th>\n",
       "      <td>0.71</td>\n",
       "      <td>-0.47</td>\n",
       "      <td>-0.40</td>\n",
       "      <td>-0.32</td>\n",
       "      <td>0.11</td>\n",
       "    </tr>\n",
       "    <tr>\n",
       "      <th>X5</th>\n",
       "      <td>0.71</td>\n",
       "      <td>-0.52</td>\n",
       "      <td>0.32</td>\n",
       "      <td>0.26</td>\n",
       "      <td>-0.23</td>\n",
       "    </tr>\n",
       "  </tbody>\n",
       "</table>\n",
       "</div>"
      ],
      "text/plain": [
       "    Factor1  Factor2  Factor3  Factor4  Factor5\n",
       "X1     0.78     0.22     0.45    -0.26     0.27\n",
       "X2     0.77     0.46    -0.13    -0.14    -0.40\n",
       "X3     0.79     0.23    -0.25     0.45     0.23\n",
       "X4     0.71    -0.47    -0.40    -0.32     0.11\n",
       "X5     0.71    -0.52     0.32     0.26    -0.23"
      ]
     },
     "execution_count": 4,
     "metadata": {},
     "output_type": "execute_result"
    }
   ],
   "source": [
    "# Case 0: p factors\n",
    "loadings_p = pd.DataFrame()\n",
    "loadings_p['Factor1'] = np.sqrt(eigenValues[0])*eigenVectors[:,0]\n",
    "loadings_p['Factor2'] = np.sqrt(eigenValues[1])*eigenVectors[:,1]\n",
    "loadings_p['Factor3'] = np.sqrt(eigenValues[2])*eigenVectors[:,2]\n",
    "loadings_p['Factor4'] = np.sqrt(eigenValues[3])*eigenVectors[:,3]\n",
    "loadings_p['Factor5'] = np.sqrt(eigenValues[4])*eigenVectors[:,4]\n",
    "loadings_p.index = stock.columns\n",
    "np.round(loadings_p, 2)"
   ]
  },
  {
   "cell_type": "code",
   "execution_count": 5,
   "metadata": {},
   "outputs": [
    {
     "data": {
      "text/html": [
       "<div>\n",
       "<style scoped>\n",
       "    .dataframe tbody tr th:only-of-type {\n",
       "        vertical-align: middle;\n",
       "    }\n",
       "\n",
       "    .dataframe tbody tr th {\n",
       "        vertical-align: top;\n",
       "    }\n",
       "\n",
       "    .dataframe thead th {\n",
       "        text-align: right;\n",
       "    }\n",
       "</style>\n",
       "<table border=\"1\" class=\"dataframe\">\n",
       "  <thead>\n",
       "    <tr style=\"text-align: right;\">\n",
       "      <th></th>\n",
       "      <th>Eigenvalue</th>\n",
       "      <th>Proportion</th>\n",
       "      <th>Cumulative</th>\n",
       "    </tr>\n",
       "  </thead>\n",
       "  <tbody>\n",
       "    <tr>\n",
       "      <th>0</th>\n",
       "      <td>2.856487</td>\n",
       "      <td>0.571297</td>\n",
       "      <td>0.571297</td>\n",
       "    </tr>\n",
       "    <tr>\n",
       "      <th>1</th>\n",
       "      <td>0.809118</td>\n",
       "      <td>0.161824</td>\n",
       "      <td>0.733121</td>\n",
       "    </tr>\n",
       "    <tr>\n",
       "      <th>2</th>\n",
       "      <td>0.540044</td>\n",
       "      <td>0.108009</td>\n",
       "      <td>0.841130</td>\n",
       "    </tr>\n",
       "    <tr>\n",
       "      <th>3</th>\n",
       "      <td>0.451347</td>\n",
       "      <td>0.090269</td>\n",
       "      <td>0.931399</td>\n",
       "    </tr>\n",
       "    <tr>\n",
       "      <th>4</th>\n",
       "      <td>0.343004</td>\n",
       "      <td>0.068601</td>\n",
       "      <td>1.000000</td>\n",
       "    </tr>\n",
       "  </tbody>\n",
       "</table>\n",
       "</div>"
      ],
      "text/plain": [
       "   Eigenvalue  Proportion  Cumulative\n",
       "0    2.856487    0.571297    0.571297\n",
       "1    0.809118    0.161824    0.733121\n",
       "2    0.540044    0.108009    0.841130\n",
       "3    0.451347    0.090269    0.931399\n",
       "4    0.343004    0.068601    1.000000"
      ]
     },
     "execution_count": 5,
     "metadata": {},
     "output_type": "execute_result"
    }
   ],
   "source": [
    "eigval = pd.DataFrame()\n",
    "eigval['Eigenvalue'] = eigenValues\n",
    "eigval['Proportion'] = eigval['Eigenvalue'] / len(eigval)\n",
    "eigval['Cumulative'] = eigval['Proportion'].cumsum(axis=0)\n",
    "eigval"
   ]
  },
  {
   "cell_type": "code",
   "execution_count": 6,
   "metadata": {},
   "outputs": [
    {
     "data": {
      "image/png": "[encoded data removed]",
      "text/plain": [
       "<Figure size 432x288 with 1 Axes>"
      ]
     },
     "metadata": {
      "needs_background": "light"
     },
     "output_type": "display_data"
    }
   ],
   "source": [
    "plt.title('Scree Plot of Eigenvalues')\n",
    "plt.xlabel('Number')\n",
    "plt.plot(eigenValues, 'o-')\n",
    "plt.show()"
   ]
  },
  {
   "cell_type": "markdown",
   "metadata": {},
   "source": [
    "**Q. How many factors are required to describe adequately the space in\n",
    "which these data actually fall?**"
   ]
  },
  {
   "cell_type": "code",
   "execution_count": 7,
   "metadata": {},
   "outputs": [
    {
     "data": {
      "text/html": [
       "<div>\n",
       "<style scoped>\n",
       "    .dataframe tbody tr th:only-of-type {\n",
       "        vertical-align: middle;\n",
       "    }\n",
       "\n",
       "    .dataframe tbody tr th {\n",
       "        vertical-align: top;\n",
       "    }\n",
       "\n",
       "    .dataframe thead th {\n",
       "        text-align: right;\n",
       "    }\n",
       "</style>\n",
       "<table border=\"1\" class=\"dataframe\">\n",
       "  <thead>\n",
       "    <tr style=\"text-align: right;\">\n",
       "      <th></th>\n",
       "      <th>Factor1</th>\n",
       "      <th>Factor2</th>\n",
       "    </tr>\n",
       "  </thead>\n",
       "  <tbody>\n",
       "    <tr>\n",
       "      <th>X1</th>\n",
       "      <td>0.78</td>\n",
       "      <td>0.22</td>\n",
       "    </tr>\n",
       "    <tr>\n",
       "      <th>X2</th>\n",
       "      <td>0.77</td>\n",
       "      <td>0.46</td>\n",
       "    </tr>\n",
       "    <tr>\n",
       "      <th>X3</th>\n",
       "      <td>0.79</td>\n",
       "      <td>0.23</td>\n",
       "    </tr>\n",
       "    <tr>\n",
       "      <th>X4</th>\n",
       "      <td>0.71</td>\n",
       "      <td>-0.47</td>\n",
       "    </tr>\n",
       "    <tr>\n",
       "      <th>X5</th>\n",
       "      <td>0.71</td>\n",
       "      <td>-0.52</td>\n",
       "    </tr>\n",
       "  </tbody>\n",
       "</table>\n",
       "</div>"
      ],
      "text/plain": [
       "    Factor1  Factor2\n",
       "X1     0.78     0.22\n",
       "X2     0.77     0.46\n",
       "X3     0.79     0.23\n",
       "X4     0.71    -0.47\n",
       "X5     0.71    -0.52"
      ]
     },
     "execution_count": 7,
     "metadata": {},
     "output_type": "execute_result"
    }
   ],
   "source": [
    "loadings2 = pd.DataFrame()\n",
    "loadings2['Factor1'] = np.sqrt(eigenValues[0])*eigenVectors[:,0]\n",
    "loadings2['Factor2'] = np.sqrt(eigenValues[1])*eigenVectors[:,1]\n",
    "loadings2.index = stock.columns\n",
    "np.round(loadings2, 2)"
   ]
  },
  {
   "cell_type": "markdown",
   "metadata": {},
   "source": [
    "**Q. Compute the communality of each variable.**"
   ]
  },
  {
   "cell_type": "code",
   "execution_count": 8,
   "metadata": {},
   "outputs": [
    {
     "data": {
      "image/png": "[encoded data removed]",
      "text/plain": [
       "<Figure size 360x288 with 1 Axes>"
      ]
     },
     "metadata": {
      "needs_background": "light"
     },
     "output_type": "display_data"
    }
   ],
   "source": [
    "# Preplot(Before Rotation)\n",
    "x = loadings2.Factor1 ; y = loadings2.Factor2\n",
    "plt.figure(figsize = (5,4))\n",
    "plt.title('Plot of Factor Pattern for Factor1 and Factor2')\n",
    "plt.xlabel('Factor1') ; plt.ylabel('Factor2')\n",
    "plt.scatter(x,y)\n",
    "for i in range(len(loadings2)):\n",
    "    plt.text(x[i]-0.05, y[i]+0.05, loadings2.index[i])\n",
    "plt.axvline(x = 0) ; plt.axhline(y = 0) \n",
    "plt.xlim(-0.5,1); plt.ylim(-1,1)\n",
    "plt.show()"
   ]
  },
  {
   "cell_type": "markdown",
   "metadata": {},
   "source": [
    "**Q. Compute the 2 x 2 matrix to rotate the Xi's 45 degrees anti-clockwise. Fill in a11, a12, a21, a22 on the following code.**"
   ]
  },
  {
   "cell_type": "code",
   "execution_count": 9,
   "metadata": {},
   "outputs": [
    {
     "data": {
      "text/html": [
       "<div>\n",
       "<style scoped>\n",
       "    .dataframe tbody tr th:only-of-type {\n",
       "        vertical-align: middle;\n",
       "    }\n",
       "\n",
       "    .dataframe tbody tr th {\n",
       "        vertical-align: top;\n",
       "    }\n",
       "\n",
       "    .dataframe thead th {\n",
       "        text-align: right;\n",
       "    }\n",
       "</style>\n",
       "<table border=\"1\" class=\"dataframe\">\n",
       "  <thead>\n",
       "    <tr style=\"text-align: right;\">\n",
       "      <th></th>\n",
       "      <th>Factor1</th>\n",
       "      <th>Factor2</th>\n",
       "    </tr>\n",
       "  </thead>\n",
       "  <tbody>\n",
       "    <tr>\n",
       "      <th>X1</th>\n",
       "      <td>0.400781</td>\n",
       "      <td>0.707166</td>\n",
       "    </tr>\n",
       "    <tr>\n",
       "      <th>X2</th>\n",
       "      <td>0.222435</td>\n",
       "      <td>0.870061</td>\n",
       "    </tr>\n",
       "    <tr>\n",
       "      <th>X3</th>\n",
       "      <td>0.395929</td>\n",
       "      <td>0.727410</td>\n",
       "    </tr>\n",
       "    <tr>\n",
       "      <th>X4</th>\n",
       "      <td>0.838037</td>\n",
       "      <td>0.169848</td>\n",
       "    </tr>\n",
       "    <tr>\n",
       "      <th>X5</th>\n",
       "      <td>0.873861</td>\n",
       "      <td>0.133192</td>\n",
       "    </tr>\n",
       "  </tbody>\n",
       "</table>\n",
       "</div>"
      ],
      "text/plain": [
       "     Factor1   Factor2\n",
       "X1  0.400781  0.707166\n",
       "X2  0.222435  0.870061\n",
       "X3  0.395929  0.727410\n",
       "X4  0.838037  0.169848\n",
       "X5  0.873861  0.133192"
      ]
     },
     "execution_count": 9,
     "metadata": {},
     "output_type": "execute_result"
    }
   ],
   "source": [
    "A = pd.DataFrame([[a11, a12)], [a21, a22]],columns=('Factor1','Factor2'))\n",
    "loadings_rotation = A.dot(loadings2.transpose()).transpose()\n",
    "loadings_rotation.columns = ('Factor1','Factor2')\n",
    "loadings_rotation"
   ]
  },
  {
   "cell_type": "code",
   "execution_count": 10,
   "metadata": {},
   "outputs": [
    {
     "data": {
      "image/png": "[encoded data removed]",
      "text/plain": [
       "<Figure size 360x288 with 1 Axes>"
      ]
     },
     "metadata": {
      "needs_background": "light"
     },
     "output_type": "display_data"
    }
   ],
   "source": [
    "# Plot(After Rotation)\n",
    "x = loadings_rotation.Factor1 ; y = loadings_rotation.Factor2\n",
    "plt.figure(figsize = (5,4))\n",
    "plt.title('Plot of Factor Pattern for Factor1 and Factor2')\n",
    "plt.xlabel('Factor1') ; plt.ylabel('Factor2')\n",
    "plt.scatter(x,y)\n",
    "for i in range(len(loadings_rotation)):\n",
    "    plt.text(x[i]-0.05, y[i]+0.05, loadings_rotation.index[i])\n",
    "plt.axvline(x = 0) ; plt.axhline(y = 0) \n",
    "plt.xlim(-0.5,1); plt.ylim(-1,1)\n",
    "plt.show()"
   ]
  }
 ],
 "metadata": {
  "kernelspec": {
   "display_name": "Python 3",
   "language": "python",
   "name": "python3"
  },
  "language_info": {
   "codemirror_mode": {
    "name": "ipython",
    "version": 3
   },
   "file_extension": ".py",
   "mimetype": "text/x-python",
   "name": "python",
   "nbconvert_exporter": "python",
   "pygments_lexer": "ipython3",
   "version": "3.8.5"
  },
  "toc": {
   "base_numbering": 1,
   "nav_menu": {},
   "number_sections": true,
   "sideBar": true,
   "skip_h1_title": false,
   "title_cell": "Table of Contents",
   "title_sidebar": "Contents",
   "toc_cell": false,
   "toc_position": {},
   "toc_section_display": true,
   "toc_window_display": false
  }
 },
 "nbformat": 4,
 "nbformat_minor": 4
}
