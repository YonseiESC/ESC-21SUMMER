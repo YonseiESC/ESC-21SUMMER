{
  "nbformat": 4,
  "nbformat_minor": 0,
  "metadata": {
    "colab": {
      "name": "week5_HW_mireulee.ipynb",
      "provenance": [],
      "collapsed_sections": []
    },
    "kernelspec": {
      "name": "python3",
      "display_name": "Python 3"
    },
    "language_info": {
      "name": "python"
    }
  },
  "cells": [
    {
      "cell_type": "code",
      "metadata": {
        "id": "YEOQQcn1ZCfM"
      },
      "source": [
        "import pandas as pd\n",
        "import numpy as np\n",
        "import matplotlib.pyplot as plt\n",
        "from google.colab import files"
      ],
      "execution_count": null,
      "outputs": []
    },
    {
      "cell_type": "code",
      "metadata": {
        "colab": {
          "resources": {
            "http://localhost:8080/nbextensions/google.colab/files.js": {
              "data": "Ly8gQ29weXJpZ2h0IDIwMTcgR29vZ2xlIExMQwovLwovLyBMaWNlbnNlZCB1bmRlciB0aGUgQXBhY2hlIExpY2Vuc2UsIFZlcnNpb24gMi4wICh0aGUgIkxpY2Vuc2UiKTsKLy8geW91IG1heSBub3QgdXNlIHRoaXMgZmlsZSBleGNlcHQgaW4gY29tcGxpYW5jZSB3aXRoIHRoZSBMaWNlbnNlLgovLyBZb3UgbWF5IG9idGFpbiBhIGNvcHkgb2YgdGhlIExpY2Vuc2UgYXQKLy8KLy8gICAgICBodHRwOi8vd3d3LmFwYWNoZS5vcmcvbGljZW5zZXMvTElDRU5TRS0yLjAKLy8KLy8gVW5sZXNzIHJlcXVpcmVkIGJ5IGFwcGxpY2FibGUgbGF3IG9yIGFncmVlZCB0byBpbiB3cml0aW5nLCBzb2Z0d2FyZQovLyBkaXN0cmlidXRlZCB1bmRlciB0aGUgTGljZW5zZSBpcyBkaXN0cmlidXRlZCBvbiBhbiAiQVMgSVMiIEJBU0lTLAovLyBXSVRIT1VUIFdBUlJBTlRJRVMgT1IgQ09ORElUSU9OUyBPRiBBTlkgS0lORCwgZWl0aGVyIGV4cHJlc3Mgb3IgaW1wbGllZC4KLy8gU2VlIHRoZSBMaWNlbnNlIGZvciB0aGUgc3BlY2lmaWMgbGFuZ3VhZ2UgZ292ZXJuaW5nIHBlcm1pc3Npb25zIGFuZAovLyBsaW1pdGF0aW9ucyB1bmRlciB0aGUgTGljZW5zZS4KCi8qKgogKiBAZmlsZW92ZXJ2aWV3IEhlbHBlcnMgZm9yIGdvb2dsZS5jb2xhYiBQeXRob24gbW9kdWxlLgogKi8KKGZ1bmN0aW9uKHNjb3BlKSB7CmZ1bmN0aW9uIHNwYW4odGV4dCwgc3R5bGVBdHRyaWJ1dGVzID0ge30pIHsKICBjb25zdCBlbGVtZW50ID0gZG9jdW1lbnQuY3JlYXRlRWxlbWVudCgnc3BhbicpOwogIGVsZW1lbnQudGV4dENvbnRlbnQgPSB0ZXh0OwogIGZvciAoY29uc3Qga2V5IG9mIE9iamVjdC5rZXlzKHN0eWxlQXR0cmlidXRlcykpIHsKICAgIGVsZW1lbnQuc3R5bGVba2V5XSA9IHN0eWxlQXR0cmlidXRlc1trZXldOwogIH0KICByZXR1cm4gZWxlbWVudDsKfQoKLy8gTWF4IG51bWJlciBvZiBieXRlcyB3aGljaCB3aWxsIGJlIHVwbG9hZGVkIGF0IGEgdGltZS4KY29uc3QgTUFYX1BBWUxPQURfU0laRSA9IDEwMCAqIDEwMjQ7CgpmdW5jdGlvbiBfdXBsb2FkRmlsZXMoaW5wdXRJZCwgb3V0cHV0SWQpIHsKICBjb25zdCBzdGVwcyA9IHVwbG9hZEZpbGVzU3RlcChpbnB1dElkLCBvdXRwdXRJZCk7CiAgY29uc3Qgb3V0cHV0RWxlbWVudCA9IGRvY3VtZW50LmdldEVsZW1lbnRCeUlkKG91dHB1dElkKTsKICAvLyBDYWNoZSBzdGVwcyBvbiB0aGUgb3V0cHV0RWxlbWVudCB0byBtYWtlIGl0IGF2YWlsYWJsZSBmb3IgdGhlIG5leHQgY2FsbAogIC8vIHRvIHVwbG9hZEZpbGVzQ29udGludWUgZnJvbSBQeXRob24uCiAgb3V0cHV0RWxlbWVudC5zdGVwcyA9IHN0ZXBzOwoKICByZXR1cm4gX3VwbG9hZEZpbGVzQ29udGludWUob3V0cHV0SWQpOwp9CgovLyBUaGlzIGlzIHJvdWdobHkgYW4gYXN5bmMgZ2VuZXJhdG9yIChub3Qgc3VwcG9ydGVkIGluIHRoZSBicm93c2VyIHlldCksCi8vIHdoZXJlIHRoZXJlIGFyZSBtdWx0aXBsZSBhc3luY2hyb25vdXMgc3RlcHMgYW5kIHRoZSBQeXRob24gc2lkZSBpcyBnb2luZwovLyB0byBwb2xsIGZvciBjb21wbGV0aW9uIG9mIGVhY2ggc3RlcC4KLy8gVGhpcyB1c2VzIGEgUHJvbWlzZSB0byBibG9jayB0aGUgcHl0aG9uIHNpZGUgb24gY29tcGxldGlvbiBvZiBlYWNoIHN0ZXAsCi8vIHRoZW4gcGFzc2VzIHRoZSByZXN1bHQgb2YgdGhlIHByZXZpb3VzIHN0ZXAgYXMgdGhlIGlucHV0IHRvIHRoZSBuZXh0IHN0ZXAuCmZ1bmN0aW9uIF91cGxvYWRGaWxlc0NvbnRpbnVlKG91dHB1dElkKSB7CiAgY29uc3Qgb3V0cHV0RWxlbWVudCA9IGRvY3VtZW50LmdldEVsZW1lbnRCeUlkKG91dHB1dElkKTsKICBjb25zdCBzdGVwcyA9IG91dHB1dEVsZW1lbnQuc3RlcHM7CgogIGNvbnN0IG5leHQgPSBzdGVwcy5uZXh0KG91dHB1dEVsZW1lbnQubGFzdFByb21pc2VWYWx1ZSk7CiAgcmV0dXJuIFByb21pc2UucmVzb2x2ZShuZXh0LnZhbHVlLnByb21pc2UpLnRoZW4oKHZhbHVlKSA9PiB7CiAgICAvLyBDYWNoZSB0aGUgbGFzdCBwcm9taXNlIHZhbHVlIHRvIG1ha2UgaXQgYXZhaWxhYmxlIHRvIHRoZSBuZXh0CiAgICAvLyBzdGVwIG9mIHRoZSBnZW5lcmF0b3IuCiAgICBvdXRwdXRFbGVtZW50Lmxhc3RQcm9taXNlVmFsdWUgPSB2YWx1ZTsKICAgIHJldHVybiBuZXh0LnZhbHVlLnJlc3BvbnNlOwogIH0pOwp9CgovKioKICogR2VuZXJhdG9yIGZ1bmN0aW9uIHdoaWNoIGlzIGNhbGxlZCBiZXR3ZWVuIGVhY2ggYXN5bmMgc3RlcCBvZiB0aGUgdXBsb2FkCiAqIHByb2Nlc3MuCiAqIEBwYXJhbSB7c3RyaW5nfSBpbnB1dElkIEVsZW1lbnQgSUQgb2YgdGhlIGlucHV0IGZpbGUgcGlja2VyIGVsZW1lbnQuCiAqIEBwYXJhbSB7c3RyaW5nfSBvdXRwdXRJZCBFbGVtZW50IElEIG9mIHRoZSBvdXRwdXQgZGlzcGxheS4KICogQHJldHVybiB7IUl0ZXJhYmxlPCFPYmplY3Q+fSBJdGVyYWJsZSBvZiBuZXh0IHN0ZXBzLgogKi8KZnVuY3Rpb24qIHVwbG9hZEZpbGVzU3RlcChpbnB1dElkLCBvdXRwdXRJZCkgewogIGNvbnN0IGlucHV0RWxlbWVudCA9IGRvY3VtZW50LmdldEVsZW1lbnRCeUlkKGlucHV0SWQpOwogIGlucHV0RWxlbWVudC5kaXNhYmxlZCA9IGZhbHNlOwoKICBjb25zdCBvdXRwdXRFbGVtZW50ID0gZG9jdW1lbnQuZ2V0RWxlbWVudEJ5SWQob3V0cHV0SWQpOwogIG91dHB1dEVsZW1lbnQuaW5uZXJIVE1MID0gJyc7CgogIGNvbnN0IHBpY2tlZFByb21pc2UgPSBuZXcgUHJvbWlzZSgocmVzb2x2ZSkgPT4gewogICAgaW5wdXRFbGVtZW50LmFkZEV2ZW50TGlzdGVuZXIoJ2NoYW5nZScsIChlKSA9PiB7CiAgICAgIHJlc29sdmUoZS50YXJnZXQuZmlsZXMpOwogICAgfSk7CiAgfSk7CgogIGNvbnN0IGNhbmNlbCA9IGRvY3VtZW50LmNyZWF0ZUVsZW1lbnQoJ2J1dHRvbicpOwogIGlucHV0RWxlbWVudC5wYXJlbnRFbGVtZW50LmFwcGVuZENoaWxkKGNhbmNlbCk7CiAgY2FuY2VsLnRleHRDb250ZW50ID0gJ0NhbmNlbCB1cGxvYWQnOwogIGNvbnN0IGNhbmNlbFByb21pc2UgPSBuZXcgUHJvbWlzZSgocmVzb2x2ZSkgPT4gewogICAgY2FuY2VsLm9uY2xpY2sgPSAoKSA9PiB7CiAgICAgIHJlc29sdmUobnVsbCk7CiAgICB9OwogIH0pOwoKICAvLyBXYWl0IGZvciB0aGUgdXNlciB0byBwaWNrIHRoZSBmaWxlcy4KICBjb25zdCBmaWxlcyA9IHlpZWxkIHsKICAgIHByb21pc2U6IFByb21pc2UucmFjZShbcGlja2VkUHJvbWlzZSwgY2FuY2VsUHJvbWlzZV0pLAogICAgcmVzcG9uc2U6IHsKICAgICAgYWN0aW9uOiAnc3RhcnRpbmcnLAogICAgfQogIH07CgogIGNhbmNlbC5yZW1vdmUoKTsKCiAgLy8gRGlzYWJsZSB0aGUgaW5wdXQgZWxlbWVudCBzaW5jZSBmdXJ0aGVyIHBpY2tzIGFyZSBub3QgYWxsb3dlZC4KICBpbnB1dEVsZW1lbnQuZGlzYWJsZWQgPSB0cnVlOwoKICBpZiAoIWZpbGVzKSB7CiAgICByZXR1cm4gewogICAgICByZXNwb25zZTogewogICAgICAgIGFjdGlvbjogJ2NvbXBsZXRlJywKICAgICAgfQogICAgfTsKICB9CgogIGZvciAoY29uc3QgZmlsZSBvZiBmaWxlcykgewogICAgY29uc3QgbGkgPSBkb2N1bWVudC5jcmVhdGVFbGVtZW50KCdsaScpOwogICAgbGkuYXBwZW5kKHNwYW4oZmlsZS5uYW1lLCB7Zm9udFdlaWdodDogJ2JvbGQnfSkpOwogICAgbGkuYXBwZW5kKHNwYW4oCiAgICAgICAgYCgke2ZpbGUudHlwZSB8fCAnbi9hJ30pIC0gJHtmaWxlLnNpemV9IGJ5dGVzLCBgICsKICAgICAgICBgbGFzdCBtb2RpZmllZDogJHsKICAgICAgICAgICAgZmlsZS5sYXN0TW9kaWZpZWREYXRlID8gZmlsZS5sYXN0TW9kaWZpZWREYXRlLnRvTG9jYWxlRGF0ZVN0cmluZygpIDoKICAgICAgICAgICAgICAgICAgICAgICAgICAgICAgICAgICAgJ24vYSd9IC0gYCkpOwogICAgY29uc3QgcGVyY2VudCA9IHNwYW4oJzAlIGRvbmUnKTsKICAgIGxpLmFwcGVuZENoaWxkKHBlcmNlbnQpOwoKICAgIG91dHB1dEVsZW1lbnQuYXBwZW5kQ2hpbGQobGkpOwoKICAgIGNvbnN0IGZpbGVEYXRhUHJvbWlzZSA9IG5ldyBQcm9taXNlKChyZXNvbHZlKSA9PiB7CiAgICAgIGNvbnN0IHJlYWRlciA9IG5ldyBGaWxlUmVhZGVyKCk7CiAgICAgIHJlYWRlci5vbmxvYWQgPSAoZSkgPT4gewogICAgICAgIHJlc29sdmUoZS50YXJnZXQucmVzdWx0KTsKICAgICAgfTsKICAgICAgcmVhZGVyLnJlYWRBc0FycmF5QnVmZmVyKGZpbGUpOwogICAgfSk7CiAgICAvLyBXYWl0IGZvciB0aGUgZGF0YSB0byBiZSByZWFkeS4KICAgIGxldCBmaWxlRGF0YSA9IHlpZWxkIHsKICAgICAgcHJvbWlzZTogZmlsZURhdGFQcm9taXNlLAogICAgICByZXNwb25zZTogewogICAgICAgIGFjdGlvbjogJ2NvbnRpbnVlJywKICAgICAgfQogICAgfTsKCiAgICAvLyBVc2UgYSBjaHVua2VkIHNlbmRpbmcgdG8gYXZvaWQgbWVzc2FnZSBzaXplIGxpbWl0cy4gU2VlIGIvNjIxMTU2NjAuCiAgICBsZXQgcG9zaXRpb24gPSAwOwogICAgZG8gewogICAgICBjb25zdCBsZW5ndGggPSBNYXRoLm1pbihmaWxlRGF0YS5ieXRlTGVuZ3RoIC0gcG9zaXRpb24sIE1BWF9QQVlMT0FEX1NJWkUpOwogICAgICBjb25zdCBjaHVuayA9IG5ldyBVaW50OEFycmF5KGZpbGVEYXRhLCBwb3NpdGlvbiwgbGVuZ3RoKTsKICAgICAgcG9zaXRpb24gKz0gbGVuZ3RoOwoKICAgICAgY29uc3QgYmFzZTY0ID0gYnRvYShTdHJpbmcuZnJvbUNoYXJDb2RlLmFwcGx5KG51bGwsIGNodW5rKSk7CiAgICAgIHlpZWxkIHsKICAgICAgICByZXNwb25zZTogewogICAgICAgICAgYWN0aW9uOiAnYXBwZW5kJywKICAgICAgICAgIGZpbGU6IGZpbGUubmFtZSwKICAgICAgICAgIGRhdGE6IGJhc2U2NCwKICAgICAgICB9LAogICAgICB9OwoKICAgICAgbGV0IHBlcmNlbnREb25lID0gZmlsZURhdGEuYnl0ZUxlbmd0aCA9PT0gMCA/CiAgICAgICAgICAxMDAgOgogICAgICAgICAgTWF0aC5yb3VuZCgocG9zaXRpb24gLyBmaWxlRGF0YS5ieXRlTGVuZ3RoKSAqIDEwMCk7CiAgICAgIHBlcmNlbnQudGV4dENvbnRlbnQgPSBgJHtwZXJjZW50RG9uZX0lIGRvbmVgOwoKICAgIH0gd2hpbGUgKHBvc2l0aW9uIDwgZmlsZURhdGEuYnl0ZUxlbmd0aCk7CiAgfQoKICAvLyBBbGwgZG9uZS4KICB5aWVsZCB7CiAgICByZXNwb25zZTogewogICAgICBhY3Rpb246ICdjb21wbGV0ZScsCiAgICB9CiAgfTsKfQoKc2NvcGUuZ29vZ2xlID0gc2NvcGUuZ29vZ2xlIHx8IHt9OwpzY29wZS5nb29nbGUuY29sYWIgPSBzY29wZS5nb29nbGUuY29sYWIgfHwge307CnNjb3BlLmdvb2dsZS5jb2xhYi5fZmlsZXMgPSB7CiAgX3VwbG9hZEZpbGVzLAogIF91cGxvYWRGaWxlc0NvbnRpbnVlLAp9Owp9KShzZWxmKTsK",
              "ok": true,
              "headers": [
                [
                  "content-type",
                  "application/javascript"
                ]
              ],
              "status": 200,
              "status_text": ""
            }
          },
          "base_uri": "https://localhost:8080/",
          "height": 116
        },
        "id": "9muOzAPnbDkM",
        "outputId": "1fcf2a61-56e1-4f9f-a1e7-90fee7bb77d1"
      },
      "source": [
        "files.upload()"
      ],
      "execution_count": null,
      "outputs": [
        {
          "output_type": "display_data",
          "data": {
            "text/html": [
              "\n",
              "     <input type=\"file\" id=\"files-868d912d-d9a3-475e-a819-a26f7ac67120\" name=\"files[]\" multiple disabled\n",
              "        style=\"border:none\" />\n",
              "     <output id=\"result-868d912d-d9a3-475e-a819-a26f7ac67120\">\n",
              "      Upload widget is only available when the cell has been executed in the\n",
              "      current browser session. Please rerun this cell to enable.\n",
              "      </output>\n",
              "      <script src=\"/nbextensions/google.colab/files.js\"></script> "
            ],
            "text/plain": [
              "<IPython.core.display.HTML object>"
            ]
          },
          "metadata": {}
        },
        {
          "output_type": "stream",
          "text": [
            "Saving stock.DAT to stock.DAT\n"
          ],
          "name": "stdout"
        },
        {
          "output_type": "execute_result",
          "data": {
            "text/plain": [
              "{'stock.DAT': b'  0.000000  0.000000  0.000000  0.039473  -0.000000\\r\\n  0.027027  -0.044855  -0.003030  -0.014466  0.043478\\r\\n  0.122807  0.060773  0.088146  0.086238  0.078124\\r\\n  0.057031  0.029948  0.066808  0.013513  0.019512\\r\\n  0.063670  -0.003793  -0.039788  -0.018644  -0.024154\\r\\n  0.003521  0.050761  0.082873  0.074265  0.049504\\r\\n  -0.045614  -0.033007  0.002551  -0.009646  -0.028301\\r\\n  0.058823  0.041719  0.081425  -0.014610  0.014563\\r\\n  0.000000  -0.019417  0.002353  0.001647  -0.028708\\r\\n  0.006944  -0.025990  0.007042  -0.041118  -0.024630\\r\\n  0.010345  0.006353  0.083916  0.010291  -0.000000\\r\\n  -0.030717  0.020202  -0.040860  -0.039049  -0.050505\\r\\n  -0.003521  0.118812  0.089686  0.060070  0.021276\\r\\n  0.060071  0.079646  0.028807  0.036666  0.026041\\r\\n  -0.003333  -0.001025  0.028000  0.028938  -0.010152\\r\\n  0.055596  0.091282  0.042759  0.059375  -0.015812\\r\\n  0.051282  -0.007519  -0.041431  -0.016269  0.058510\\r\\n  -0.060976  -0.043561  0.023576  0.004566  -0.015075\\r\\n  -0.035714  0.018170  -0.021113  -0.007575  -0.010204\\r\\n  0.000000  -0.021569  -0.007843  0.088549  0.082474\\r\\n  -0.006734  -0.015030  -0.086956  -0.021037  -0.019047\\r\\n  0.000000  -0.017294  0.017316  0.054441  0.033980\\r\\n  0.030508  0.047619  0.055319  -0.008152  0.032863\\r\\n  0.023026  0.012846  -0.002016  0.013698  -0.031518\\r\\n  -0.061093  -0.043902  -0.042424  -0.029729  -0.014084\\r\\n  0.041096  0.016326  0.048523  0.018105  0.071428\\r\\n  -0.013158  -0.004016  -0.038229  -0.042407  -0.048888\\r\\n  0.003333  -0.008065  -0.014992  0.000000  -0.028037\\r\\n  -0.056478  -0.014228  -0.038627  -0.005714  -0.019607\\r\\n  0.051899  0.018557  0.066964  0.020302  -0.015000\\r\\n  -0.013559  -0.029352  0.012552  -0.008571  -0.010152\\r\\n  -0.037801  0.003252  -0.012397  -0.020172  -0.025641\\r\\n  -0.021429  0.031466  0.039749  0.016176  0.005263\\r\\n  -0.014599  -0.024390  -0.010060  0.004341  -0.005235\\r\\n  -0.014815  -0.020833  -0.091463  -0.007204  -0.015789\\r\\n  0.011278  -0.017021  0.064877  0.065312  0.026737\\r\\n  -0.096654  -0.075758  -0.073529  -0.053133  -0.026041\\r\\n  0.020576  0.058548  0.018141  0.063309  0.016042\\r\\n  0.088710  0.046460  0.022272  0.004059  -0.000000\\r\\n  0.007407  0.019027  0.045752  -0.008086  0.052631\\r\\n  -0.022059  0.002075  -0.017272  -0.021739  -0.045000\\r\\n  -0.031579  0.010352  0.012848  -0.013888  0.010695\\r\\n  0.039370  0.054303  -0.014799  0.011428  -0.005291\\r\\n  0.015151  0.029154  -0.021459  -0.009887  -0.021276\\r\\n  0.000000  -0.010466  0.035088  -0.014265  0.038043\\r\\n  -0.037313  -0.024038  -0.019068  -0.024602  -0.010471\\r\\n  0.015504  -0.027586  0.006479  0.022255  -0.026455\\r\\n  0.034351  0.024316  0.034335  0.020319  0.005434\\r\\n  -0.036900  0.011869  0.014523  0.007112  0.016216\\r\\n  0.068965  0.014663  0.016360  0.038135  0.063829\\r\\n  0.089606  0.079961  0.102616  0.002721  0.020000\\r\\n  0.000000  0.016949  0.029197  0.002713  0.004901\\r\\n  0.059210  0.077193  0.019504  -0.012178  0.039024\\r\\n  0.027950  0.009772  0.000000  -0.000000  -0.000265\\r\\n  -0.004196  0.014516  -0.031696  -0.004445  -0.014354\\r\\n  0.018405  -0.046900  0.061594  -0.043235  -0.029126\\r\\n  0.069277  0.056888  0.040956  0.040816  0.020000\\r\\n  -0.016901  -0.018268  -0.008197  -0.005602  -0.019607\\r\\n  -0.017192  -0.001618  -0.001653  -0.016901  0.005000\\r\\n  -0.040816  -0.035656  0.000000  0.014326  0.004975\\r\\n  -0.018237  -0.003361  -0.028146  0.035310  0.014851\\r\\n  -0.003096  -0.021922  -0.027257  0.005457  0.039024\\r\\n  0.018634  0.025862  -0.017513  0.018995  -0.004694\\r\\n  -0.057927  -0.018487  0.000000  -0.023968  -0.037735\\r\\n  0.087379  0.049657  0.033868  0.047748  0.039215\\r\\n  0.000000  -0.011419  -0.010345  -0.005208  0.028301\\r\\n  -0.019367  -0.011551  -0.022817  0.007853  0.013761\\r\\n  -0.046012  0.035893  0.044964  0.040612  0.004608\\r\\n  -0.077170  -0.004029  -0.003442  0.003797  -0.027522\\r\\n  0.034843  -0.008157  -0.018998  0.008827  -0.014151\\r\\n  -0.006734  -0.019737  -0.026408  0.023749  0.014354\\r\\n  -0.023729  -0.019295  -0.032550  -0.001221  0.023584\\r\\n  0.065972  0.024807  0.057944  0.020782  0.004608\\r\\n  0.000000  -0.036728  -0.014134  -0.007185  0.004587\\r\\n  -0.052117  -0.058925  -0.069892  0.009650  0.009132\\r\\n  0.054983  -0.003683  0.026975  -0.002389  0.009049\\r\\n  -0.003257  -0.009242  -0.022514  0.005988  -0.013452\\r\\n  0.022876  0.033582  0.001919  0.026190  0.004545\\r\\n  -0.003195  -0.005415  -0.003831  -0.013921  -0.000165\\r\\n  0.043590  -0.014519  -0.013385  0.021176  0.013824\\r\\n  -0.009317  0.013812  0.021654  -0.014927  -0.009090\\r\\n  -0.056426  -0.005557  -0.003854  -0.023696  -0.018348\\r\\n  0.003322  -0.041475  -0.029014  -0.002427  -0.004672\\r\\n  0.016556  0.017308  0.033864  0.034063  0.009389\\r\\n  -0.009772  -0.016068  -0.003854  0.014117  0.013953\\r\\n  0.026316  -0.016330  -0.009671  0.032482  0.027522\\r\\n  0.009615  0.009766  0.017578  0.016247  0.017857\\r\\n  -0.047619  -0.027079  -0.051823  -0.045468  -0.021929\\r\\n  -0.026667  -0.061630  -0.056680  -0.013452  -0.040358\\r\\n  0.010274  0.023305  0.034335  -0.018181  -0.004672\\r\\n  -0.044068  0.020704  -0.006224  -0.018518  0.004694\\r\\n  0.039007  0.038540  0.024988  -0.028301  0.032710\\r\\n  -0.039457  -0.029297  -0.065844  -0.015837  -0.045758\\r\\n  0.039568  0.024145  -0.006608  0.028423  -0.009661\\r\\n  -0.031142  -0.007941  0.011080  0.007537  0.014634\\r\\n  0.000000  -0.020080  -0.006579  0.029925  -0.004807\\r\\n  0.021429  0.049180  0.006622  -0.002421  0.028985\\r\\n  0.045454  0.046375  0.074561  0.014563  0.018779\\r\\n  0.050167  0.036380  0.004082  -0.011961  0.009216\\r\\n  0.019108  -0.033303  0.008362  0.033898  0.004566\\r\\n'}"
            ]
          },
          "metadata": {},
          "execution_count": 2
        }
      ]
    },
    {
      "cell_type": "code",
      "metadata": {
        "colab": {
          "base_uri": "https://localhost:8080/",
          "height": 206
        },
        "id": "4_5CZgTTZIKv",
        "outputId": "a8af3643-fd84-4ba9-9eda-2ac3db8bf714"
      },
      "source": [
        "stock = pd.read_csv('stock.DAT', header=None, delim_whitespace=True)\n",
        "stock.columns = ['X1', 'X2', 'X3', 'X4', 'X5']\n",
        "stock.corr()"
      ],
      "execution_count": null,
      "outputs": [
        {
          "output_type": "execute_result",
          "data": {
            "text/html": [
              "<div>\n",
              "<style scoped>\n",
              "    .dataframe tbody tr th:only-of-type {\n",
              "        vertical-align: middle;\n",
              "    }\n",
              "\n",
              "    .dataframe tbody tr th {\n",
              "        vertical-align: top;\n",
              "    }\n",
              "\n",
              "    .dataframe thead th {\n",
              "        text-align: right;\n",
              "    }\n",
              "</style>\n",
              "<table border=\"1\" class=\"dataframe\">\n",
              "  <thead>\n",
              "    <tr style=\"text-align: right;\">\n",
              "      <th></th>\n",
              "      <th>X1</th>\n",
              "      <th>X2</th>\n",
              "      <th>X3</th>\n",
              "      <th>X4</th>\n",
              "      <th>X5</th>\n",
              "    </tr>\n",
              "  </thead>\n",
              "  <tbody>\n",
              "    <tr>\n",
              "      <th>X1</th>\n",
              "      <td>1.000000</td>\n",
              "      <td>0.576924</td>\n",
              "      <td>0.508656</td>\n",
              "      <td>0.386721</td>\n",
              "      <td>0.462178</td>\n",
              "    </tr>\n",
              "    <tr>\n",
              "      <th>X2</th>\n",
              "      <td>0.576924</td>\n",
              "      <td>1.000000</td>\n",
              "      <td>0.598384</td>\n",
              "      <td>0.389519</td>\n",
              "      <td>0.321953</td>\n",
              "    </tr>\n",
              "    <tr>\n",
              "      <th>X3</th>\n",
              "      <td>0.508656</td>\n",
              "      <td>0.598384</td>\n",
              "      <td>1.000000</td>\n",
              "      <td>0.436101</td>\n",
              "      <td>0.425627</td>\n",
              "    </tr>\n",
              "    <tr>\n",
              "      <th>X4</th>\n",
              "      <td>0.386721</td>\n",
              "      <td>0.389519</td>\n",
              "      <td>0.436101</td>\n",
              "      <td>1.000000</td>\n",
              "      <td>0.523529</td>\n",
              "    </tr>\n",
              "    <tr>\n",
              "      <th>X5</th>\n",
              "      <td>0.462178</td>\n",
              "      <td>0.321953</td>\n",
              "      <td>0.425627</td>\n",
              "      <td>0.523529</td>\n",
              "      <td>1.000000</td>\n",
              "    </tr>\n",
              "  </tbody>\n",
              "</table>\n",
              "</div>"
            ],
            "text/plain": [
              "          X1        X2        X3        X4        X5\n",
              "X1  1.000000  0.576924  0.508656  0.386721  0.462178\n",
              "X2  0.576924  1.000000  0.598384  0.389519  0.321953\n",
              "X3  0.508656  0.598384  1.000000  0.436101  0.425627\n",
              "X4  0.386721  0.389519  0.436101  1.000000  0.523529\n",
              "X5  0.462178  0.321953  0.425627  0.523529  1.000000"
            ]
          },
          "metadata": {},
          "execution_count": 3
        }
      ]
    },
    {
      "cell_type": "markdown",
      "metadata": {
        "id": "j5d7DzkVbaZi"
      },
      "source": [
        "# Q1 \n",
        "\n",
        "How many factors are required to describe adequately the space in which these data actually fall?"
      ]
    },
    {
      "cell_type": "code",
      "metadata": {
        "id": "8c9jl1LtbZay"
      },
      "source": [
        "eigenValues, eigenVectors = np.linalg.eig(stock.corr())\n",
        "idx = eigenValues.argsort()[::-1]   \n",
        "eigenValues = eigenValues[idx]\n",
        "eigenVectors = eigenVectors[:,idx]"
      ],
      "execution_count": null,
      "outputs": []
    },
    {
      "cell_type": "code",
      "metadata": {
        "colab": {
          "base_uri": "https://localhost:8080/",
          "height": 206
        },
        "id": "aJHeCgTtb2tu",
        "outputId": "9eeb3f20-4f61-41ff-e59d-d73eb97a9cd8"
      },
      "source": [
        "eigval = pd.DataFrame()\n",
        "eigval['Eigenvalue'] = eigenValues\n",
        "eigval['Proportion'] = eigval['Eigenvalue'] / len(eigval)\n",
        "eigval['Cumulative'] = eigval['Proportion'].cumsum(axis=0)\n",
        "eigval"
      ],
      "execution_count": null,
      "outputs": [
        {
          "output_type": "execute_result",
          "data": {
            "text/html": [
              "<div>\n",
              "<style scoped>\n",
              "    .dataframe tbody tr th:only-of-type {\n",
              "        vertical-align: middle;\n",
              "    }\n",
              "\n",
              "    .dataframe tbody tr th {\n",
              "        vertical-align: top;\n",
              "    }\n",
              "\n",
              "    .dataframe thead th {\n",
              "        text-align: right;\n",
              "    }\n",
              "</style>\n",
              "<table border=\"1\" class=\"dataframe\">\n",
              "  <thead>\n",
              "    <tr style=\"text-align: right;\">\n",
              "      <th></th>\n",
              "      <th>Eigenvalue</th>\n",
              "      <th>Proportion</th>\n",
              "      <th>Cumulative</th>\n",
              "    </tr>\n",
              "  </thead>\n",
              "  <tbody>\n",
              "    <tr>\n",
              "      <th>0</th>\n",
              "      <td>2.856487</td>\n",
              "      <td>0.571297</td>\n",
              "      <td>0.571297</td>\n",
              "    </tr>\n",
              "    <tr>\n",
              "      <th>1</th>\n",
              "      <td>0.809118</td>\n",
              "      <td>0.161824</td>\n",
              "      <td>0.733121</td>\n",
              "    </tr>\n",
              "    <tr>\n",
              "      <th>2</th>\n",
              "      <td>0.540044</td>\n",
              "      <td>0.108009</td>\n",
              "      <td>0.841130</td>\n",
              "    </tr>\n",
              "    <tr>\n",
              "      <th>3</th>\n",
              "      <td>0.451347</td>\n",
              "      <td>0.090269</td>\n",
              "      <td>0.931399</td>\n",
              "    </tr>\n",
              "    <tr>\n",
              "      <th>4</th>\n",
              "      <td>0.343004</td>\n",
              "      <td>0.068601</td>\n",
              "      <td>1.000000</td>\n",
              "    </tr>\n",
              "  </tbody>\n",
              "</table>\n",
              "</div>"
            ],
            "text/plain": [
              "   Eigenvalue  Proportion  Cumulative\n",
              "0    2.856487    0.571297    0.571297\n",
              "1    0.809118    0.161824    0.733121\n",
              "2    0.540044    0.108009    0.841130\n",
              "3    0.451347    0.090269    0.931399\n",
              "4    0.343004    0.068601    1.000000"
            ]
          },
          "metadata": {},
          "execution_count": 5
        }
      ]
    },
    {
      "cell_type": "code",
      "metadata": {
        "colab": {
          "base_uri": "https://localhost:8080/",
          "height": 295
        },
        "id": "0OWjBiQqb87p",
        "outputId": "64d0d1a8-9527-479e-c769-90780bc8949e"
      },
      "source": [
        "plt.title('Scree Plot of Eigenvalues')\n",
        "plt.xlabel('Number')\n",
        "plt.plot(eigenValues, 'o-')\n",
        "plt.show()"
      ],
      "execution_count": null,
      "outputs": [
        {
          "output_type": "display_data",
          "data": {
            "image/png": "[encoded data removed]",
            "text/plain": [
              "<Figure size 432x288 with 1 Axes>"
            ]
          },
          "metadata": {
            "needs_background": "light"
          }
        }
      ]
    },
    {
      "cell_type": "markdown",
      "metadata": {
        "id": "sInrHerHbZzZ"
      },
      "source": [
        "# Q2 \n",
        "\n",
        "Compute the communality of each variable.\n"
      ]
    },
    {
      "cell_type": "markdown",
      "metadata": {
        "id": "cOjzUFodhPbP"
      },
      "source": [
        "$\\Sigma = LL' + \\psi$\n",
        "\n",
        "$ =  \\begin{bmatrix}\n",
        "e_1 & e_2 & \\dots & e_p \\\\\n",
        "\\end{bmatrix}\n",
        "\\begin{bmatrix}\n",
        "\\lambda_1 & 0 & \\dots & 0\\\\\n",
        "0 & \\lambda_2 & \\dots & 0\\\\\n",
        "0 & 0 & \\dots & \\lambda_p\\\\\n",
        "\\end{bmatrix}\n",
        "\\begin{bmatrix}\n",
        "e_1 \\\\\n",
        "e_2 \\\\\n",
        "\\dots \\\\\n",
        "e_p \\\\\n",
        "\\end{bmatrix}$\n",
        "\n",
        "$\\approx\n",
        "\\begin{bmatrix}\n",
        "e_1 & \\dots & e_m \\\\\n",
        "\\end{bmatrix}\n",
        "\\begin{bmatrix}\n",
        "\\lambda_1  & \\dots & 0\\\\\n",
        "0 & \\dots & \\lambda_m\\\\\n",
        "\\end{bmatrix}\n",
        "\\begin{bmatrix}\n",
        "e_1 \\\\\n",
        "\\dots \\\\\n",
        "e_m \\\\\n",
        "\\end{bmatrix}\n",
        "$\n",
        "\n",
        "$ = \\begin{bmatrix}\n",
        "\\sqrt{\\lambda_1}e_1 & \\dots & \\sqrt{\\lambda_m}e_m \\\\\n",
        "\\end{bmatrix}\n",
        "\\begin{bmatrix}\n",
        "\\sqrt{\\lambda_1}e_1 \\\\\n",
        "\\dots \\\\\n",
        "\\sqrt{\\lambda_m}e_m \\\\\n",
        "\\end{bmatrix}\n",
        "= \\hat{L}\\hat{L}'$"
      ]
    },
    {
      "cell_type": "code",
      "metadata": {
        "colab": {
          "base_uri": "https://localhost:8080/",
          "height": 206
        },
        "id": "UtKrGOSAedL-",
        "outputId": "fedce2a8-e8c8-49e6-855b-50f8e7d28244"
      },
      "source": [
        "loadings2 = pd.DataFrame()\n",
        "loadings2['Factor1'] = np.sqrt(eigenValues[0])*eigenVectors[:,0]\n",
        "loadings2['Factor2'] = np.sqrt(eigenValues[1])*eigenVectors[:,1]\n",
        "loadings2.index = stock.columns\n",
        "np.round(loadings2, 2)"
      ],
      "execution_count": null,
      "outputs": [
        {
          "output_type": "execute_result",
          "data": {
            "text/html": [
              "<div>\n",
              "<style scoped>\n",
              "    .dataframe tbody tr th:only-of-type {\n",
              "        vertical-align: middle;\n",
              "    }\n",
              "\n",
              "    .dataframe tbody tr th {\n",
              "        vertical-align: top;\n",
              "    }\n",
              "\n",
              "    .dataframe thead th {\n",
              "        text-align: right;\n",
              "    }\n",
              "</style>\n",
              "<table border=\"1\" class=\"dataframe\">\n",
              "  <thead>\n",
              "    <tr style=\"text-align: right;\">\n",
              "      <th></th>\n",
              "      <th>Factor1</th>\n",
              "      <th>Factor2</th>\n",
              "    </tr>\n",
              "  </thead>\n",
              "  <tbody>\n",
              "    <tr>\n",
              "      <th>X1</th>\n",
              "      <td>0.78</td>\n",
              "      <td>0.22</td>\n",
              "    </tr>\n",
              "    <tr>\n",
              "      <th>X2</th>\n",
              "      <td>0.77</td>\n",
              "      <td>0.46</td>\n",
              "    </tr>\n",
              "    <tr>\n",
              "      <th>X3</th>\n",
              "      <td>0.79</td>\n",
              "      <td>0.23</td>\n",
              "    </tr>\n",
              "    <tr>\n",
              "      <th>X4</th>\n",
              "      <td>0.71</td>\n",
              "      <td>-0.47</td>\n",
              "    </tr>\n",
              "    <tr>\n",
              "      <th>X5</th>\n",
              "      <td>0.71</td>\n",
              "      <td>-0.52</td>\n",
              "    </tr>\n",
              "  </tbody>\n",
              "</table>\n",
              "</div>"
            ],
            "text/plain": [
              "    Factor1  Factor2\n",
              "X1     0.78     0.22\n",
              "X2     0.77     0.46\n",
              "X3     0.79     0.23\n",
              "X4     0.71    -0.47\n",
              "X5     0.71    -0.52"
            ]
          },
          "metadata": {},
          "execution_count": 7
        }
      ]
    },
    {
      "cell_type": "markdown",
      "metadata": {
        "id": "zMicBiqfjaZW"
      },
      "source": [
        "$Var(X_i) = l_{i1}^2 + l_{i2}^2  + \\dots + l_{im}^2 + \\psi_i$\n",
        "\n",
        "Total Variation = communality + specific Variance\n",
        "\n"
      ]
    },
    {
      "cell_type": "code",
      "metadata": {
        "colab": {
          "base_uri": "https://localhost:8080/"
        },
        "id": "1Hh4LAiwhM8E",
        "outputId": "db393ea8-733c-4da1-982d-bbadaac6608a"
      },
      "source": [
        "np.dot(loadings2, np.transpose(loadings2))"
      ],
      "execution_count": null,
      "outputs": [
        {
          "output_type": "execute_result",
          "data": {
            "text/plain": [
              "array([[0.66070874, 0.70442501, 0.67308021, 0.45597996, 0.44441591],\n",
              "       [0.70442501, 0.80648316, 0.72095935, 0.3341872 , 0.31026298],\n",
              "       [0.67308021, 0.72095935, 0.68588504, 0.45535266, 0.44287274],\n",
              "       [0.45597996, 0.3341872 , 0.45535266, 0.7311545 , 0.75495071],\n",
              "       [0.44441591, 0.31026298, 0.44287274, 0.75495071, 0.78137395]])"
            ]
          },
          "metadata": {},
          "execution_count": 8
        }
      ]
    },
    {
      "cell_type": "markdown",
      "metadata": {
        "id": "D1wnAJsVmgdH"
      },
      "source": [
        "# Q3\n",
        "\n",
        "Compute the 2 x 2 matrix to rotate the Xi's 45 degrees anti-clockwise. Fill in a11, a12, a21, a22 on the following code.\n",
        "\n"
      ]
    },
    {
      "cell_type": "code",
      "metadata": {
        "colab": {
          "base_uri": "https://localhost:8080/",
          "height": 295
        },
        "id": "aJJKwVOMmkL1",
        "outputId": "3ba7f9d3-5f8e-4dfe-9ef1-6dd85a28d4e1"
      },
      "source": [
        "# Preplot(Before Rotation)\n",
        "x = loadings2.Factor1 ; y = loadings2.Factor2\n",
        "plt.figure(figsize = (5,4))\n",
        "plt.title('Plot of Factor Pattern for Factor1 and Factor2')\n",
        "plt.xlabel('Factor1') ; plt.ylabel('Factor2')\n",
        "plt.scatter(x,y)\n",
        "for i in range(len(loadings2)):\n",
        "    plt.text(x[i]-0.05, y[i]+0.05, loadings2.index[i])\n",
        "plt.axvline(x = 0) ; plt.axhline(y = 0) \n",
        "plt.xlim(-0.5,1); plt.ylim(-1,1)\n",
        "plt.show()"
      ],
      "execution_count": null,
      "outputs": [
        {
          "output_type": "display_data",
          "data": {
            "image/png": "[encoded data removed]",
            "text/plain": [
              "<Figure size 360x288 with 1 Axes>"
            ]
          },
          "metadata": {
            "needs_background": "light"
          }
        }
      ]
    },
    {
      "cell_type": "markdown",
      "metadata": {
        "id": "eBiS5snZbqCN"
      },
      "source": [
        "2 x 2 rotation matrix\n",
        "\n",
        "$ \\begin{bmatrix}\n",
        "cos(\\theta) & -sin(\\theta) \\\\\n",
        "sin(\\theta) & cos(\\theta)\n",
        "\\end{bmatrix}$"
      ]
    },
    {
      "cell_type": "code",
      "metadata": {
        "colab": {
          "base_uri": "https://localhost:8080/",
          "height": 206
        },
        "id": "VBYTkxrjmoc9",
        "outputId": "691bf95b-46ee-40c0-fdc7-c9830a4907ea"
      },
      "source": [
        "theta = np.pi / 4\n",
        "a11 = np.cos(theta)\n",
        "a12 = -np.sin(theta)\n",
        "a21 = np.sin(theta)\n",
        "a22 = np.cos(theta)\n",
        "\n",
        "A = pd.DataFrame([[a11, a12], [a21, a22]],columns=('Factor1','Factor2'))\n",
        "loadings_rotation = A.dot(loadings2.transpose()).transpose()\n",
        "loadings_rotation.columns = ('Factor1','Factor2')\n",
        "loadings_rotation"
      ],
      "execution_count": null,
      "outputs": [
        {
          "output_type": "execute_result",
          "data": {
            "text/html": [
              "<div>\n",
              "<style scoped>\n",
              "    .dataframe tbody tr th:only-of-type {\n",
              "        vertical-align: middle;\n",
              "    }\n",
              "\n",
              "    .dataframe tbody tr th {\n",
              "        vertical-align: top;\n",
              "    }\n",
              "\n",
              "    .dataframe thead th {\n",
              "        text-align: right;\n",
              "    }\n",
              "</style>\n",
              "<table border=\"1\" class=\"dataframe\">\n",
              "  <thead>\n",
              "    <tr style=\"text-align: right;\">\n",
              "      <th></th>\n",
              "      <th>Factor1</th>\n",
              "      <th>Factor2</th>\n",
              "    </tr>\n",
              "  </thead>\n",
              "  <tbody>\n",
              "    <tr>\n",
              "      <th>X1</th>\n",
              "      <td>0.400781</td>\n",
              "      <td>0.707166</td>\n",
              "    </tr>\n",
              "    <tr>\n",
              "      <th>X2</th>\n",
              "      <td>0.222435</td>\n",
              "      <td>0.870061</td>\n",
              "    </tr>\n",
              "    <tr>\n",
              "      <th>X3</th>\n",
              "      <td>0.395929</td>\n",
              "      <td>0.727410</td>\n",
              "    </tr>\n",
              "    <tr>\n",
              "      <th>X4</th>\n",
              "      <td>0.838037</td>\n",
              "      <td>0.169848</td>\n",
              "    </tr>\n",
              "    <tr>\n",
              "      <th>X5</th>\n",
              "      <td>0.873861</td>\n",
              "      <td>0.133192</td>\n",
              "    </tr>\n",
              "  </tbody>\n",
              "</table>\n",
              "</div>"
            ],
            "text/plain": [
              "     Factor1   Factor2\n",
              "X1  0.400781  0.707166\n",
              "X2  0.222435  0.870061\n",
              "X3  0.395929  0.727410\n",
              "X4  0.838037  0.169848\n",
              "X5  0.873861  0.133192"
            ]
          },
          "metadata": {},
          "execution_count": 18
        }
      ]
    },
    {
      "cell_type": "code",
      "metadata": {
        "colab": {
          "base_uri": "https://localhost:8080/",
          "height": 295
        },
        "id": "8BvyfVl9m081",
        "outputId": "a1762c1b-9966-41a9-a138-2cbb0e777372"
      },
      "source": [
        "# Plot(After Rotation)\n",
        "x = loadings_rotation.Factor1 ; y = loadings_rotation.Factor2\n",
        "plt.figure(figsize = (5,4))\n",
        "plt.title('Plot of Factor Pattern for Factor1 and Factor2')\n",
        "plt.xlabel('Factor1') ; plt.ylabel('Factor2')\n",
        "plt.scatter(x,y)\n",
        "for i in range(len(loadings_rotation)):\n",
        "    plt.text(x[i]-0.05, y[i]+0.05, loadings_rotation.index[i])\n",
        "plt.axvline(x = 0) ; plt.axhline(y = 0) \n",
        "plt.xlim(-0.5,1); plt.ylim(-1,1)\n",
        "plt.show()"
      ],
      "execution_count": null,
      "outputs": [
        {
          "output_type": "display_data",
          "data": {
            "image/png": "[encoded data removed]",
            "text/plain": [
              "<Figure size 360x288 with 1 Axes>"
            ]
          },
          "metadata": {
            "needs_background": "light"
          }
        }
      ]
    }
  ]
}